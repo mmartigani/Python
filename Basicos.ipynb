{
 "cells": [
  {
   "cell_type": "code",
   "execution_count": 19,
   "id": "2c454a5e-c455-4685-a2a0-072d7b978c72",
   "metadata": {},
   "outputs": [
    {
     "name": "stdout",
     "output_type": "stream",
     "text": [
      "este es mi saludo desde Python\n",
      "hola desde Linux\n",
      "7\n",
      "--------------------\n",
      "zerocool\n",
      "7776541\n",
      "zero@gmail.com\n",
      "-------------------\n",
      "<class 'int'>\n",
      "<class 'str'>\n",
      "<class 'float'>\n",
      "<class 'bool'>\n",
      "--------------------\n",
      "mi cantante favorito es: teddy swims\n",
      "-------------------------\n",
      "mi cantante favorito es:  teddy swims\n",
      "-----------------------------\n",
      "True\n",
      "False\n",
      "-----------------------------\n"
     ]
    },
    {
     "name": "stdin",
     "output_type": "stream",
     "text": [
      "escribe un mensaje zero\n"
     ]
    },
    {
     "name": "stdout",
     "output_type": "stream",
     "text": [
      "valor proporcionado: zero\n",
      "fin del programa\n",
      "-----------------------------\n"
     ]
    },
    {
     "name": "stdin",
     "output_type": "stream",
     "text": [
      "escribe el primer numero:  12\n",
      "escribe el segundo numero:  77\n"
     ]
    },
    {
     "name": "stdout",
     "output_type": "stream",
     "text": [
      "89\n",
      "-----------------------------\n"
     ]
    },
    {
     "name": "stdin",
     "output_type": "stream",
     "text": [
      "califica tu dia (1 al 10):  7\n"
     ]
    },
    {
     "name": "stdout",
     "output_type": "stream",
     "text": [
      "mi dia estuvo de:  7\n",
      "-----------------------------\n"
     ]
    },
    {
     "name": "stdin",
     "output_type": "stream",
     "text": [
      "prporciona el titulo del libro:  el simbolo perdido\n",
      "proporciona el autor del libro:  dan brown\n"
     ]
    },
    {
     "name": "stdout",
     "output_type": "stream",
     "text": [
      "el simbolo perdido fue escrito dan brown\n"
     ]
    }
   ],
   "source": [
    "#esto es un comentario\n",
    "\"\"\"\n",
    "esto es  un \n",
    "comentario\n",
    "de varias \n",
    "lineas\n",
    "\"\"\"\n",
    "print('este es mi saludo desde Python')\n",
    "miVariable = \"hola desde Linux\"\n",
    "print(miVariable)\n",
    "otraVarible = 7\n",
    "print(otraVarible)\n",
    "print(\"--------------------\")\n",
    "nombre = 'zerocool'\n",
    "telefono = 7776541\n",
    "email = 'zero@gmail.com'\n",
    "print(nombre)\n",
    "print(telefono)\n",
    "print(email)\n",
    "print('-------------------')\n",
    "x = 7\n",
    "print(type(x))\n",
    "y = \"hola\"\n",
    "print(type(y))\n",
    "z = 7.7\n",
    "print(type(z))\n",
    "a=True\n",
    "print(type(a))\n",
    "print('--------------------')\n",
    "grupo = 'teddy swims'\n",
    "print('mi cantante favorito es: ' + grupo)\n",
    "print('-------------------------')\n",
    "print('mi cantante favorito es: ', grupo)\n",
    "print('-----------------------------')\n",
    "miVar = True \n",
    "miVar1 = False\n",
    "print(miVar)\n",
    "print(miVar1)\n",
    "print('-----------------------------')\n",
    "resultado = input(\"escribe un mensaje\")\n",
    "print('valor proporcionado:',resultado)\n",
    "print('fin del programa')\n",
    "print('-----------------------------')\n",
    "num = int(input('escribe el primer numero: '))\n",
    "num2 = int(input(\"escribe el segundo numero: \"))\n",
    "r = num + num2\n",
    "print(r)\n",
    "print('-----------------------------')\n",
    "resultado = input(\"califica tu dia (1 al 10): \")\n",
    "print(\"mi dia estuvo de: \", resultado)\n",
    "print('-----------------------------')\n",
    "titulo = input(\"prporciona el titulo del libro: \")\n",
    "autor = input(\"proporciona el autor del libro: \")\n",
    "print(titulo, 'fue escrito', autor)"
   ]
  },
  {
   "cell_type": "code",
   "execution_count": null,
   "id": "499f8faf-c72e-44dc-bea8-9528ba54edf0",
   "metadata": {},
   "outputs": [],
   "source": []
  },
  {
   "cell_type": "code",
   "execution_count": 25,
   "id": "86a59dc1-3c1e-4b5e-ba2b-7b4a94350718",
   "metadata": {},
   "outputs": [
    {
     "name": "stdout",
     "output_type": "stream",
     "text": [
      "-----------------------\n",
      "resultado de la suma 11\n",
      "resultado de la suma 3\n",
      "resultado de la suma 28\n",
      "resultado de la suma 1.75\n",
      "resultado de la suma 1\n",
      "resultado de la suma 2401\n",
      "resultado de la suma 3\n",
      "-----------------------\n"
     ]
    }
   ],
   "source": [
    "op1 = 7\n",
    "op2 = 4\n",
    "suma = op1 + op2\n",
    "print('-----------------------')\n",
    "print(f'resultado de la suma', suma)\n",
    "resta = op1 - op2\n",
    "print(f'resultado de la suma', resta)\n",
    "multi = op1 * op2\n",
    "print(f'resultado de la suma', multi)\n",
    "division = op1/ op2\n",
    "print(f'resultado de la suma', division)\n",
    "div = op1 // op2\n",
    "print(f'resultado de la suma', div)\n",
    "potencia = op1 ** op2\n",
    "print(f'resultado de la suma', potencia)\n",
    "modulo = op1%op2\n",
    "print(f'resultado de la suma', modulo)\n",
    "print('-----------------------')"
   ]
  },
  {
   "cell_type": "code",
   "execution_count": 27,
   "id": "a50c3e85-a864-4b06-9bee-395a74e1bccd",
   "metadata": {},
   "outputs": [
    {
     "name": "stdout",
     "output_type": "stream",
     "text": [
      "ejercicio el area y perimetro de un rectangulo\n",
      "-----------------------------------\n"
     ]
    },
    {
     "name": "stdin",
     "output_type": "stream",
     "text": [
      "ingresa el alto de un rectangulo:  7\n",
      "ingrese el ancho del rectanulo:  65\n"
     ]
    },
    {
     "name": "stdout",
     "output_type": "stream",
     "text": [
      "Perimetro:  144\n",
      "-----------------------------------\n"
     ]
    }
   ],
   "source": [
    "print('ejercicio el area y perimetro de un rectangulo')\n",
    "print('-----------------------------------')\n",
    "alto = int(input('ingresa el alto de un rectangulo: '))\n",
    "ancho = int(input('ingrese el ancho del rectanulo: '))\n",
    "area = alto * ancho \n",
    "perimetro = (alto + ancho)*2\n",
    "print('Perimetro: ', perimetro)\n",
    "print('-----------------------------------')"
   ]
  },
  {
   "cell_type": "code",
   "execution_count": 35,
   "id": "faa979cc-ecce-48ad-b8fd-d9393ea36edb",
   "metadata": {},
   "outputs": [
    {
     "name": "stdout",
     "output_type": "stream",
     "text": [
      "operadores de asignacion\n",
      "-----------------------------------\n",
      "7\n",
      "10\n",
      "7\n",
      "21\n",
      "7.0\n",
      "343.0\n",
      "114.0\n",
      "0.0\n",
      "-----------------------------------\n"
     ]
    }
   ],
   "source": [
    "print('operadores de asignacion')\n",
    "print('-----------------------------------')\n",
    "miVar = 7\n",
    "print(miVar)\n",
    "miVar += 3\n",
    "print(miVar)\n",
    "miVar -= 3\n",
    "print(miVar)\n",
    "miVar *= 3\n",
    "print(miVar)\n",
    "miVar /= 3\n",
    "print(miVar)\n",
    "miVar **= 3\n",
    "print(miVar)\n",
    "miVar //= 3\n",
    "print(miVar)\n",
    "miVar %= 3\n",
    "print(miVar)\n",
    "print('-----------------------------------')"
   ]
  },
  {
   "cell_type": "code",
   "execution_count": 42,
   "id": "7ef2bb7c-a120-419b-9011-d61ce15eff7d",
   "metadata": {},
   "outputs": [
    {
     "name": "stdout",
     "output_type": "stream",
     "text": [
      "operadores de comparacion\n",
      "-----------------------------------\n",
      "resultado == : False\n",
      "resultado != : True\n",
      "resultado > mayor : True\n",
      "resultado > mayor e igual : True\n",
      "resultado > menor : False\n",
      "resultado > menor igual : True\n",
      "-----------------------------------\n"
     ]
    }
   ],
   "source": [
    "print('operadores de comparacion')\n",
    "print('-----------------------------------')\n",
    "a = 4 \n",
    "b = 2\n",
    "resultado = a == b\n",
    "print(f'resultado == :', resultado)\n",
    "resultado = a != b \n",
    "print(f'resultado != :', resultado)\n",
    "resultado = a > b\n",
    "print(f'resultado > mayor :', resultado)\n",
    "resultado = a >= b\n",
    "print(f'resultado > mayor e igual :', resultado)\n",
    "resultado = a < b\n",
    "print(f'resultado > menor :', resultado)\n",
    "resultado = a >= b\n",
    "print(f'resultado > menor igual :', resultado)\n",
    "print('-----------------------------------')"
   ]
  },
  {
   "cell_type": "code",
   "execution_count": 44,
   "id": "1ec40696-94cb-4e0d-b616-de26817a2449",
   "metadata": {},
   "outputs": [
    {
     "name": "stdout",
     "output_type": "stream",
     "text": [
      "ejercicio saber si un numero es par o impar\n",
      "-----------------------------------\n"
     ]
    },
    {
     "name": "stdin",
     "output_type": "stream",
     "text": [
      "escribe un valor numerico:  17\n"
     ]
    },
    {
     "name": "stdout",
     "output_type": "stream",
     "text": [
      "el valor de 17 es Impar\n"
     ]
    }
   ],
   "source": [
    "print(\"ejercicio saber si un numero es par o impar\")\n",
    "print('-----------------------------------')\n",
    "a = int(input('escribe un valor numerico: '))\n",
    "if a % 2 == 0:\n",
    "    print(f'el valor de {a} es Par')\n",
    "else:\n",
    "    print(f'el valor de {a} es Impar')\n",
    "    "
   ]
  },
  {
   "cell_type": "code",
   "execution_count": 48,
   "id": "901bef4b-99ef-4206-8fa8-82e4f0b09933",
   "metadata": {},
   "outputs": [
    {
     "name": "stdout",
     "output_type": "stream",
     "text": [
      "determina la edad de la persona\n",
      "--------------------------------\n"
     ]
    },
    {
     "name": "stdin",
     "output_type": "stream",
     "text": [
      "ingrese su edad:  6\n"
     ]
    },
    {
     "name": "stdout",
     "output_type": "stream",
     "text": [
      "la edad 6 es menor\n",
      "--------------------------------\n"
     ]
    }
   ],
   "source": [
    "print(\"determina la edad de la persona\")\n",
    "print(\"--------------------------------\")\n",
    "eAdulto = 18\n",
    "ePersona = int(input(\"ingrese su edad: \"))\n",
    "if ePersona >= eAdulto:\n",
    "    print(f'la edad {ePersona} es un adulto')\n",
    "else:\n",
    "    print(f'la edad {ePersona} es menor')\n",
    "print(\"--------------------------------\")"
   ]
  },
  {
   "cell_type": "code",
   "execution_count": 51,
   "id": "1b3fc730-dba8-42ae-818b-cde00b22c7a1",
   "metadata": {},
   "outputs": [
    {
     "name": "stdout",
     "output_type": "stream",
     "text": [
      "operadores logicos\n",
      "--------------------------------\n",
      "False\n",
      "True\n",
      "False\n",
      "--------------------------------\n"
     ]
    }
   ],
   "source": [
    "print('operadores logicos')\n",
    "print(\"--------------------------------\")\n",
    "a = True\n",
    "b = False\n",
    "resultado = a and b \n",
    "print(resultado)\n",
    "resultado = a or b \n",
    "print(resultado)\n",
    "resultado = not a \n",
    "print(resultado)\n",
    "print(\"--------------------------------\")"
   ]
  },
  {
   "cell_type": "code",
   "execution_count": 54,
   "id": "872abdb0-97eb-49a8-bf4a-7ae1f6790d34",
   "metadata": {},
   "outputs": [
    {
     "name": "stdout",
     "output_type": "stream",
     "text": [
      "valor dentro del rango\n",
      "--------------------------------\n"
     ]
    },
    {
     "name": "stdin",
     "output_type": "stream",
     "text": [
      "escribe el valor:  89\n"
     ]
    },
    {
     "name": "stdout",
     "output_type": "stream",
     "text": [
      "el valor 89 esta fuera de rango\n",
      "--------------------------------\n"
     ]
    }
   ],
   "source": [
    "print(\"valor dentro del rango\")\n",
    "print(\"--------------------------------\")\n",
    "valor = int(input(\"escribe el valor: \"))\n",
    "valorMaximo = 7\n",
    "valorMinimo = 0\n",
    "rango = (valor >= valorMinimo) and (valor <= valorMaximo)\n",
    "if rango:\n",
    "    print(f'el valor {valor} esta dentro del rango')\n",
    "else:\n",
    "    print(f'el valor {valor} esta fuera de rango')\n",
    "print(\"--------------------------------\")"
   ]
  },
  {
   "cell_type": "code",
   "execution_count": 55,
   "id": "e3b4ab98-094e-40fa-9692-234de382f7cc",
   "metadata": {},
   "outputs": [
    {
     "name": "stdout",
     "output_type": "stream",
     "text": [
      "ejercicio con or\n",
      "--------------------------------\n",
      "tiene deberes\n",
      "--------------------------------\n"
     ]
    }
   ],
   "source": [
    "print(\"ejercicio con or\")\n",
    "print(\"--------------------------------\")\n",
    "vacaciones = False\n",
    "descanso = False\n",
    "if vacaciones or descanso:\n",
    "    print('puede asistir')\n",
    "else:\n",
    "    print('tiene deberes')\n",
    "print(\"--------------------------------\")"
   ]
  },
  {
   "cell_type": "code",
   "execution_count": 56,
   "id": "ae20b752-0835-4ae2-b80b-072ced839802",
   "metadata": {},
   "outputs": [
    {
     "name": "stdout",
     "output_type": "stream",
     "text": [
      "operador not\n",
      "--------------------------------\n",
      "tiene deberes\n",
      "--------------------------------\n"
     ]
    }
   ],
   "source": [
    "print('operador not')\n",
    "print(\"--------------------------------\")\n",
    "vacaciones = False\n",
    "descanso = True\n",
    "if not(vacaciones or descanso):\n",
    "    print('puede asistir')\n",
    "else:\n",
    "    print('tiene deberes')\n",
    "print(\"--------------------------------\")"
   ]
  },
  {
   "cell_type": "code",
   "execution_count": 57,
   "id": "e8dfc67f-e4ed-411d-96df-f189eb1a88f0",
   "metadata": {},
   "outputs": [
    {
     "name": "stdout",
     "output_type": "stream",
     "text": [
      "cual de los nros ingresados es mayor\n",
      "-------------------------------------\n"
     ]
    },
    {
     "name": "stdin",
     "output_type": "stream",
     "text": [
      "ingrese el numero 1:  7\n",
      "ingrese el numero 2:  3\n"
     ]
    },
    {
     "name": "stdout",
     "output_type": "stream",
     "text": [
      "numero 1 es mayor\n",
      "-------------------------------------\n"
     ]
    }
   ],
   "source": [
    "print(\"cual de los nros ingresados es mayor\")\n",
    "print(\"-------------------------------------\")\n",
    "numero1 = int(input(\"ingrese el numero 1: \"))\n",
    "numero2 = int(input(\"ingrese el numero 2: \"))\n",
    "if numero1 > numero2:\n",
    "    print('numero 1 es mayor')\n",
    "else:\n",
    "    print('numero 2 es mayor')\n",
    "print(\"-------------------------------------\")"
   ]
  },
  {
   "cell_type": "code",
   "execution_count": 58,
   "id": "2f9e3c34-b1fd-460b-ab9e-f4f36fb453c6",
   "metadata": {},
   "outputs": [
    {
     "name": "stdout",
     "output_type": "stream",
     "text": [
      "tienda de libros\n",
      "--------------------------------\n",
      "ingrese los datos del libro\n"
     ]
    },
    {
     "name": "stdin",
     "output_type": "stream",
     "text": [
      "ingrese el nombre del libro:  el simbolo perdido\n",
      "ingrese el id del libro:  654356\n",
      "ingrese el precio del libro:  543\n",
      "envio gratuito (True/False):  True\n"
     ]
    },
    {
     "name": "stdout",
     "output_type": "stream",
     "text": [
      "nombre: el simbolo perdido el id es 654356, el precio es 543.0, envio True\n",
      "--------------------------------\n"
     ]
    }
   ],
   "source": [
    "print(\"tienda de libros\")\n",
    "print(\"--------------------------------\")\n",
    "print(\"ingrese los datos del libro\")\n",
    "nombre = input(\"ingrese el nombre del libro: \")\n",
    "id = int(input(\"ingrese el id del libro: \"))\n",
    "precio = float(input(\"ingrese el precio del libro: \"))\n",
    "envioGratuito = input('envio gratuito (True/False): ')\n",
    "if envioGratuito == 'True':\n",
    "    envioGratuito = True\n",
    "elif envioGratuito =='False':\n",
    "    envioGratuito = False\n",
    "else:\n",
    "    envioGratuito = 'valor incorrecto debe ser True o False'\n",
    "print(f'nombre: {nombre} el id es {id}, el precio es {precio}, envio {envioGratuito}')\n",
    "print(\"--------------------------------\")"
   ]
  },
  {
   "cell_type": "code",
   "execution_count": 60,
   "id": "aceebb19-0e13-4c09-b842-7a4b61b4a7e7",
   "metadata": {},
   "outputs": [
    {
     "name": "stdout",
     "output_type": "stream",
     "text": [
      "if\n",
      "--------------------------\n",
      "condicion no reconocida\n",
      "--------------------------\n"
     ]
    }
   ],
   "source": [
    "print(\"if\")\n",
    "print(\"--------------------------\")\n",
    "condicion = \"linux\"\n",
    "if condicion == True:\n",
    "    print('condicion verdadera')\n",
    "elif condicion == False:\n",
    "    print('condicion falsa')\n",
    "else:\n",
    "    print('condicion no reconocida')\n",
    "print(\"--------------------------\")"
   ]
  },
  {
   "cell_type": "code",
   "execution_count": 62,
   "id": "a6d48754-8836-4589-85ef-afcfe62d72a4",
   "metadata": {},
   "outputs": [
    {
     "name": "stdout",
     "output_type": "stream",
     "text": [
      "convertir un valor numerico a texto\n",
      "------------------------------------\n"
     ]
    },
    {
     "name": "stdin",
     "output_type": "stream",
     "text": [
      "ingrese un valor entre 1 y 3:  3\n"
     ]
    },
    {
     "name": "stdout",
     "output_type": "stream",
     "text": [
      "numero ingresado: 3: numero tres\n",
      "------------------------------------\n"
     ]
    }
   ],
   "source": [
    "print(\"convertir un valor numerico a texto\")\n",
    "print(\"------------------------------------\")\n",
    "numero = int(input(\"ingrese un valor entre 1 y 3: \"))\n",
    "numeroTexto = ''\n",
    "if numero == 1:\n",
    "    numeroTexto = 'numero uno'\n",
    "elif numero == 2:\n",
    "    numeroTexto = 'numero dos'\n",
    "elif numero == 3:\n",
    "    numeroTexto = 'numero tres'\n",
    "else:\n",
    "    numeroTexto = 'valor incorrecto'\n",
    "print(f'numero ingresado: {numero}: {numeroTexto}')\n",
    "print(\"------------------------------------\")\n"
   ]
  },
  {
   "cell_type": "code",
   "execution_count": 63,
   "id": "e6411623-3313-4d32-891c-ff1ed969d326",
   "metadata": {},
   "outputs": [
    {
     "name": "stdout",
     "output_type": "stream",
     "text": [
      "operador ternario\n",
      "------------------------------------\n",
      "condicion verdadera\n",
      "------------------------------------\n"
     ]
    }
   ],
   "source": [
    "print(\"operador ternario\")\n",
    "print(\"------------------------------------\")\n",
    "condicion = True\n",
    "print('condicion verdadera') if condicion else print('condicion falsa')\n",
    "print(\"------------------------------------\")"
   ]
  },
  {
   "cell_type": "code",
   "execution_count": 5,
   "id": "53d16be5-8ce7-4b62-aac3-57f4834c3e9e",
   "metadata": {},
   "outputs": [
    {
     "name": "stdout",
     "output_type": "stream",
     "text": [
      "estaciones del año\n",
      "------------------------\n"
     ]
    },
    {
     "name": "stdin",
     "output_type": "stream",
     "text": [
      "ingrese mes del año(1-12):  7\n"
     ]
    },
    {
     "name": "stdout",
     "output_type": "stream",
     "text": [
      "para el mes 7 la estacion es: verano\n",
      "------------------------\n"
     ]
    }
   ],
   "source": [
    "print(\"estaciones del año\")\n",
    "print(\"------------------------\")\n",
    "mes = int(input(\"ingrese mes del año(1-12): \"))\n",
    "estacion = None\n",
    "if mes == 1 or mes == 2 or mes == 12:\n",
    "    estacion = 'invierno'\n",
    "elif mes == 3 or mes == 4 or mes == 5:\n",
    "    estacion = 'primavera'\n",
    "elif mes == 6 or mes == 7 or mes == 8:\n",
    "    estacion ='verano'\n",
    "elif mes == 9 or mes == 10 or mes == 11:\n",
    "    estacion = 'otoño'\n",
    "else:\n",
    "    estacion = 'mes incorrecto'\n",
    "print(f'para el mes {mes} la estacion es: {estacion}')\n",
    "    \n",
    "print(\"------------------------\")"
   ]
  },
  {
   "cell_type": "code",
   "execution_count": 8,
   "id": "01e59ce3-340f-4db5-a3ee-993674fee819",
   "metadata": {},
   "outputs": [
    {
     "name": "stdout",
     "output_type": "stream",
     "text": [
      "ciclo while\n",
      "------------------------\n",
      "0\n",
      "1\n",
      "2\n",
      "fin ciclo while\n",
      "------------------------\n"
     ]
    }
   ],
   "source": [
    "print(\"ciclo while\")\n",
    "print(\"------------------------\")\n",
    "contador = 0\n",
    "while contador < 3:\n",
    "    print(contador)\n",
    "    contador += 1\n",
    "else:\n",
    "    print('fin ciclo while')\n",
    "print(\"------------------------\")"
   ]
  },
  {
   "cell_type": "code",
   "execution_count": 16,
   "id": "7bf9e7e7-ab9e-4308-b9c5-9540c5679a09",
   "metadata": {},
   "outputs": [
    {
     "name": "stdout",
     "output_type": "stream",
     "text": [
      "ciclo while imprimir los valores del 0 al 5\n",
      "------------------------\n",
      "0\n",
      "1\n",
      "2\n",
      "3\n",
      "4\n",
      "5\n",
      "------------------------\n"
     ]
    }
   ],
   "source": [
    "print(\"ciclo while imprimir los valores del 0 al 5\")\n",
    "print(\"------------------------\")\n",
    "contador = 0\n",
    "maximo = 5\n",
    "while contador <= maximo:\n",
    "    print(contador)\n",
    "    contador += 1\n",
    "print(\"------------------------\")"
   ]
  },
  {
   "cell_type": "code",
   "execution_count": 17,
   "id": "cd755386-51c5-4d8d-b013-3db918896c04",
   "metadata": {},
   "outputs": [
    {
     "name": "stdout",
     "output_type": "stream",
     "text": [
      "ciclo while imprimir valores descendentes 5 a 1\n",
      "------------------------\n",
      "5\n",
      "4\n",
      "3\n",
      "2\n",
      "1\n",
      "------------------------\n"
     ]
    }
   ],
   "source": [
    "print(\"ciclo while imprimir valores descendentes 5 a 1\")\n",
    "print(\"------------------------\")\n",
    "minimo = 1\n",
    "contador = 5\n",
    "while contador >= minimo:\n",
    "    print(contador)\n",
    "    contador -=1\n",
    "print(\"------------------------\")"
   ]
  },
  {
   "cell_type": "code",
   "execution_count": 19,
   "id": "bca71807-741b-468c-a8dc-fbf4f60cd75e",
   "metadata": {},
   "outputs": [
    {
     "name": "stdout",
     "output_type": "stream",
     "text": [
      "ciclo for\n",
      "----------------------\n",
      "linux\n",
      "linux\n",
      "linux\n",
      "linux\n",
      "linux\n",
      "l\n",
      "i\n",
      "n\n",
      "u\n",
      "x\n",
      "----------------------\n"
     ]
    }
   ],
   "source": [
    "print(\"ciclo for\")\n",
    "print(\"----------------------\")\n",
    "cadena = \"linux\"\n",
    "for i in cadena:\n",
    "    print(cadena)\n",
    "for a in cadena:\n",
    "    print(a)\n",
    "print(\"----------------------\")"
   ]
  },
  {
   "cell_type": "code",
   "execution_count": 21,
   "id": "ce20c6a2-81ac-4707-98fb-556a26aab5b3",
   "metadata": {},
   "outputs": [
    {
     "name": "stdout",
     "output_type": "stream",
     "text": [
      "break\n",
      "----------------------\n",
      "letra encontrada: a\n",
      "----------------------\n"
     ]
    }
   ],
   "source": [
    "print(\"break\")\n",
    "print(\"----------------------\")\n",
    "for letra in 'holanda':\n",
    "    if letra == 'a':\n",
    "        print(f'letra encontrada: {letra}')\n",
    "        break\n",
    "else:\n",
    "    print('fin ciclo for')\n",
    "print(\"----------------------\")"
   ]
  },
  {
   "cell_type": "code",
   "execution_count": 25,
   "id": "a7164165-2d8f-461e-9f80-548076ccf427",
   "metadata": {},
   "outputs": [
    {
     "name": "stdout",
     "output_type": "stream",
     "text": [
      "continue\n",
      "----------------------\n",
      "valor: 0\n",
      "valor: 2\n",
      "valor: 4\n",
      "valor: 6\n",
      "----------------------\n"
     ]
    }
   ],
   "source": [
    "print(\"continue\")\n",
    "print(\"----------------------\")\n",
    "for i in range(8):\n",
    "    if i %2 == 0:\n",
    "        print(f\"valor: {i}\")\n",
    "print(\"----------------------\")"
   ]
  },
  {
   "cell_type": "code",
   "execution_count": 29,
   "id": "dea9f47b-d81c-4682-b5af-e1439426651d",
   "metadata": {},
   "outputs": [
    {
     "name": "stdout",
     "output_type": "stream",
     "text": [
      "continue\n",
      "----------------------\n",
      "valor: 0\n",
      "valor: 2\n",
      "valor: 4\n",
      "valor: 6\n",
      "----------------------\n"
     ]
    }
   ],
   "source": [
    "print(\"continue\")\n",
    "print(\"----------------------\")\n",
    "for i in range(7):\n",
    "    if i % 2 != 0:\n",
    "        continue\n",
    "    print(f'valor: {i}')\n",
    "print(\"----------------------\")"
   ]
  },
  {
   "cell_type": "code",
   "execution_count": 16,
   "id": "6c52e773-de04-4599-998b-9978526663ff",
   "metadata": {},
   "outputs": [
    {
     "name": "stdout",
     "output_type": "stream",
     "text": [
      "listas\n",
      "----------------------------------------\n",
      "['juan', 'carla', 'ricardo', 'maria']\n",
      "ricardo\n",
      "maria\n",
      "['juan', 'carla']\n",
      "['juan']\n",
      "['carla', 'ricardo', 'maria']\n",
      "['juan', 'carla', 'linux', 'maria']\n",
      "juan\n",
      "carla\n",
      "linux\n",
      "maria\n",
      "4\n",
      "<class 'list'>\n",
      "['juan', 'carla', 'linux', 'maria', 'lolo']\n",
      "['juan', 'octavio', 'carla', 'linux', 'maria', 'lolo']\n",
      "['juan', 'carla', 'linux', 'maria', 'lolo']\n",
      "['juan', 'carla', 'linux', 'maria']\n",
      "['carla', 'linux', 'maria']\n",
      "-----------------------------------------\n"
     ]
    }
   ],
   "source": [
    "print(\"listas\")\n",
    "print(\"----------------------------------------\")\n",
    "nombres = [\"juan\", \"carla\", \"ricardo\", \"maria\"]\n",
    "print(nombres)\n",
    "print(nombres[2])\n",
    "print(nombres[-1])\n",
    "print(nombres[0:2])\n",
    "print(nombres[:1])\n",
    "print(nombres[1:])\n",
    "nombres[2]='linux'\n",
    "print(nombres)\n",
    "for nombre in nombres:\n",
    "    print(nombre)\n",
    "print(len(nombres))\n",
    "print(type(nombres))\n",
    "nombres.append(\"lolo\")\n",
    "print(nombres)\n",
    "nombres.insert(1, 'octavio')\n",
    "print(nombres)\n",
    "nombres.remove('octavio')\n",
    "print(nombres)\n",
    "nombres.pop()\n",
    "print(nombres)\n",
    "del nombres[0]\n",
    "print(nombres)\n",
    "print(\"-----------------------------------------\")"
   ]
  },
  {
   "cell_type": "code",
   "execution_count": 21,
   "id": "ada3dab1-ae87-4367-b8e3-c5c8eefc394b",
   "metadata": {},
   "outputs": [
    {
     "name": "stdout",
     "output_type": "stream",
     "text": [
      "ejercicio iterar rango 0 al 10 y que sea divisible por 3\n",
      "----------------------------------------------------------\n",
      "0\n",
      "3\n",
      "6\n",
      "9\n",
      "----------------------------------------------------------\n",
      "crear un rango de 2 a 6 e imprimirlos\n",
      "----------------------------------------------------------\n",
      "2\n",
      "3\n",
      "4\n",
      "5\n",
      "6\n",
      "----------------------------------------------------------\n",
      "valores de 3 al 10 con incremento de 2\n",
      "----------------------------------------------------------\n",
      "3\n",
      "5\n",
      "7\n",
      "9\n",
      "----------------------------------------------------------\n"
     ]
    }
   ],
   "source": [
    "print(\"ejercicio iterar rango 0 al 10 y que sea divisible por 3\")\n",
    "print(\"----------------------------------------------------------\")\n",
    "for i in range(11):\n",
    "    if i % 3 == 0:\n",
    "        print(i)\n",
    "print(\"----------------------------------------------------------\")\n",
    "print(\"crear un rango de 2 a 6 e imprimirlos\")\n",
    "print(\"----------------------------------------------------------\")\n",
    "rango = range(2,7)\n",
    "for i in rango:\n",
    "    print(i)\n",
    "print(\"----------------------------------------------------------\")\n",
    "print(\"valores de 3 al 10 con incremento de 2\")\n",
    "print(\"----------------------------------------------------------\")\n",
    "rango = range(3,11,2)\n",
    "for i in rango:\n",
    "    print(i)\n",
    "print(\"----------------------------------------------------------\")\n",
    "\n"
   ]
  },
  {
   "cell_type": "code",
   "execution_count": 9,
   "id": "6cf2b403-926a-47e6-8834-66f26dbe71e4",
   "metadata": {},
   "outputs": [
    {
     "name": "stdout",
     "output_type": "stream",
     "text": [
      "tuplas no se puedan modificar\n",
      "----------------------------------------------------------\n",
      "('linux', 'microsoft', 'tesla', 'apple')\n",
      "<class 'tuple'>\n",
      "4\n",
      "tesla\n",
      "linux microsoft tesla apple --------------------------------------\n",
      "proceso para cambiar de una tupla a lista y a tupla\n",
      "--------------------------------------\n",
      "('debian', 'microsoft', 'tesla', 'apple')\n",
      "--------------------------------------\n"
     ]
    }
   ],
   "source": [
    "print(\"tuplas no se puedan modificar\")\n",
    "print(\"----------------------------------------------------------\")\n",
    "sistemas =(\"linux\", \"microsoft\", \"tesla\", \"apple\")\n",
    "print(sistemas)\n",
    "print(type(sistemas))\n",
    "print(len(sistemas))\n",
    "print(sistemas[2])\n",
    "for sistema in sistemas:\n",
    "    print(sistema, end=' ')\n",
    "print(\"--------------------------------------\")\n",
    "print(\"proceso para cambiar de una tupla a lista y a tupla\")\n",
    "print(\"--------------------------------------\")\n",
    "cambiar_a_lista = list(sistemas)\n",
    "cambiar_a_lista[0] = \"debian\"\n",
    "sistemas = tuple(cambiar_a_lista)\n",
    "print(sistemas)\n",
    "print(\"--------------------------------------\")\n"
   ]
  },
  {
   "cell_type": "code",
   "execution_count": 17,
   "id": "7d49a5dc-c98b-46b5-90f3-67de9a383a72",
   "metadata": {},
   "outputs": [
    {
     "name": "stdout",
     "output_type": "stream",
     "text": [
      "set no mantiene un orden , no permite los duplicados\n",
      "--------------------------------------\n",
      "{'venus', 'marte', 'jupiter', 'mercurio'}\n",
      "4\n",
      "<class 'set'>\n",
      "True\n",
      "{'jupiter', 'venus', 'mercurio', 'marte', 'saturno'}\n",
      "--------------------------------------\n"
     ]
    }
   ],
   "source": [
    "print(\"set no mantiene un orden , no permite los duplicados\")\n",
    "print(\"--------------------------------------\")\n",
    "planetas = {'marte', 'jupiter','venus','mercurio'}\n",
    "print(planetas)\n",
    "print(len(planetas))\n",
    "print(type(planetas))\n",
    "print('marte' in planetas)\n",
    "planetas.add('saturno')\n",
    "planetas.add('tierra')\n",
    "planetas.remove('tierra')\n",
    "planetas.discard('osses') #elimina pero no arroja error\n",
    "print(planetas)\n",
    "print(\"--------------------------------------\")"
   ]
  },
  {
   "cell_type": "code",
   "execution_count": 32,
   "id": "ca542c5f-9675-4ec6-9a8b-777fd8150cd0",
   "metadata": {},
   "outputs": [
    {
     "name": "stdout",
     "output_type": "stream",
     "text": [
      "diccionarios tiene una clave y valor\n",
      "------------------------------------\n",
      "3\n",
      "<class 'dict'>\n",
      "entre\n",
      "debian\n",
      "{'id': 'vecna', 'id2': 'debian', 'id3': 'linux'}\n",
      "id vecna\n",
      "id2 debian\n",
      "id3 linux\n",
      "id\n",
      "id2\n",
      "id3\n",
      "vecna\n",
      "debian\n",
      "linux\n",
      "False\n",
      "{'id': 'vecna', 'id2': 'debian', 'id3': 'linux'}\n",
      "------------------------------------\n"
     ]
    }
   ],
   "source": [
    "print(\"diccionarios tiene una clave y valor\")\n",
    "print(\"------------------------------------\")\n",
    "diccionario = {'id':'entre', 'id2':'debian', 'id3':'linux'}\n",
    "print(len(diccionario))\n",
    "print(type(diccionario))\n",
    "print(diccionario['id'])\n",
    "print(diccionario.get('id2'))\n",
    "diccionario['id']='vecna'\n",
    "print(diccionario)\n",
    "for termino, valor in diccionario.items():\n",
    "    print(termino, valor)\n",
    "for termino in diccionario.keys():\n",
    "    print(termino)\n",
    "for valor in diccionario.values():\n",
    "    print(valor)\n",
    "print('id1'in diccionario)\n",
    "diccionario['db']='basedatos'\n",
    "diccionario.pop('db')\n",
    "print(diccionario)\n",
    "print(\"------------------------------------\")"
   ]
  },
  {
   "cell_type": "code",
   "execution_count": 11,
   "id": "9e10abd8-bad8-4a63-881e-edf0f70b197d",
   "metadata": {},
   "outputs": [
    {
     "name": "stdout",
     "output_type": "stream",
     "text": [
      "funciones\n",
      "------------------------------------\n",
      "funcion en python\n",
      "----------------------------\n",
      "saludos a : linux: vecna \n",
      "------------------------------------\n",
      "11\n",
      "------------------------------------\n",
      "juan\n",
      "vecna\n",
      "linux\n",
      "zerocool\n",
      "------------------------------------\n",
      "39\n",
      "------------------------------------\n",
      "200\n",
      "------------------------------------\n",
      "id: ter\n",
      "id2: tgh\n",
      "id3: oloo\n",
      "None\n",
      "------------------------------------\n",
      "juan\n",
      "carla\n",
      "guillermo\n",
      "7\n",
      "7\n",
      "------------------------------------\n",
      "funcion recursiva\n",
      "el factorial de 5 es 120\n",
      "------------------------------------\n",
      "5\n",
      "4\n",
      "3\n",
      "2\n",
      "1\n",
      "------------------------------------\n"
     ]
    },
    {
     "name": "stdin",
     "output_type": "stream",
     "text": [
      "ingrese el pago sin inpuestos:  1000\n",
      "ingrese el impuesto:  16\n"
     ]
    },
    {
     "name": "stdout",
     "output_type": "stream",
     "text": [
      "Pago con impuesto: 1160.0\n",
      "------------------------------------\n"
     ]
    },
    {
     "name": "stdin",
     "output_type": "stream",
     "text": [
      "ingrese el valor en celsius:  32\n"
     ]
    },
    {
     "name": "stdout",
     "output_type": "stream",
     "text": [
      "32.0 c a f 89.60\n"
     ]
    },
    {
     "name": "stdin",
     "output_type": "stream",
     "text": [
      "ingrese el valor en farenheit:  50\n"
     ]
    },
    {
     "name": "stdout",
     "output_type": "stream",
     "text": [
      "50.0 f a c 10.00\n",
      "------------------------------------\n"
     ]
    }
   ],
   "source": [
    "print(\"funciones\")\n",
    "print(\"------------------------------------\")\n",
    "def mi_funcion():\n",
    "    print(\"funcion en python\")\n",
    "mi_funcion()\n",
    "print(\"----------------------------\")\n",
    "def argu(nombre,apellido):#parametros\n",
    "    print(f\"saludos a : {nombre}: {apellido} \")\n",
    "argu('linux', 'vecna')  #argumentos \n",
    "print(\"------------------------------------\")\n",
    "def sumar(a,b):\n",
    "    return a + b\n",
    "resultado=sumar(7,4)\n",
    "print(resultado)\n",
    "print(\"------------------------------------\")\n",
    "def listar_nombres(*nombres):\n",
    "    for nombre in nombres:\n",
    "        print(nombre)\n",
    "listar_nombres('juan', 'vecna', 'linux','zerocool')\n",
    "print(\"------------------------------------\")\n",
    "def sumar_valores(*args):\n",
    "    resultado = 0\n",
    "    for valor in args:\n",
    "        resultado += valor\n",
    "    return resultado\n",
    "print(sumar_valores(3,5,9,7,7,8))   \n",
    "print(\"------------------------------------\")\n",
    "def multiplicar_valores(*args):\n",
    "    resultado = 1\n",
    "    for valor in args:\n",
    "        resultado *= valor \n",
    "    return resultado\n",
    "print(multiplicar_valores(2,4,5,5))\n",
    "print(\"------------------------------------\")\n",
    "def listar_terminos(**terminos):\n",
    "    for llave, valor in terminos.items():\n",
    "        print(f'{llave}: {valor}')\n",
    "print(listar_terminos(id='ter', id2='tgh', id3='oloo'))\n",
    "    \n",
    "print(\"------------------------------------\")\n",
    "def desplegar_nombres(nombres):\n",
    "    for nombre in nombres:\n",
    "        print(nombre)\n",
    "nombres =['juan', 'carla', 'guillermo']\n",
    "desplegar_nombres(nombres)\n",
    "desplegar_nombres((7,7))\n",
    "print(\"------------------------------------\")\n",
    "print(\"funcion recursiva\")\n",
    "def factorial(numero):\n",
    "    if numero == 1:\n",
    "        return 1 \n",
    "    else:\n",
    "        return numero * factorial(numero -1)\n",
    "resultado=factorial(5)\n",
    "print(f'el factorial de 5 es {resultado}')\n",
    "print(\"------------------------------------\")\n",
    "def imprimir_recursivo(numero):\n",
    "    if numero >= 1 :\n",
    "        print(numero)\n",
    "        imprimir_recursivo(numero -1)\n",
    "imprimir_recursivo(5)\n",
    "print(\"------------------------------------\")\n",
    "def calcula_total_pago(pago_sin_impuesto, impuesto):\n",
    "    pago_total = pago_sin_impuesto + pago_sin_impuesto *(impuesto/100)\n",
    "    return pago_total\n",
    "pago_sin_impuesto =float(input(\"ingrese el pago sin inpuestos: \"))\n",
    "impuesto = float(input(\"ingrese el impuesto: \"))\n",
    "pago_con_impuesto = calcula_total_pago(pago_sin_impuesto, impuesto)\n",
    "print(f\"Pago con impuesto: {pago_con_impuesto}\")\n",
    "print(\"------------------------------------\")\n",
    "def celsius_a_farenheit(celsius):\n",
    "    return celsius * 9 / 5 + 32\n",
    "def farenheit_a_celsius(farenheit):\n",
    "    return (farenheit -32) * 5 / 9\n",
    "celsius = float(input(\"ingrese el valor en celsius: \"))\n",
    "resultado = celsius_a_farenheit(celsius)\n",
    "print(f'{celsius} c a f {resultado:.2f}')\n",
    "farenheit = float(input(\"ingrese el valor en farenheit: \"))\n",
    "resultado = farenheit_a_celsius(farenheit)\n",
    "print(f'{farenheit} f a c {resultado:.2f}')\n",
    "print(\"------------------------------------\")"
   ]
  },
  {
   "cell_type": "code",
   "execution_count": 23,
   "id": "09b81766-6ed5-4294-9070-1163c9d21829",
   "metadata": {},
   "outputs": [
    {
     "name": "stdout",
     "output_type": "stream",
     "text": [
      "programacion orientada a objetos OOP\n",
      "------------------------------------\n",
      "Objeto persona1: linux,torvals, 55\n",
      "modificacion de valores de un objeto\n",
      "Objeto persona1: debian,edicion12, 71\n",
      "Objeto persona2: aws,bezos, 60\n"
     ]
    }
   ],
   "source": [
    "print(\"programacion orientada a objetos OOP\")\n",
    "print(\"------------------------------------\")\n",
    "class Persona:\n",
    "    def __init__(self, nombre, apellido,edad):\n",
    "        self.nombre = nombre\n",
    "        self.apellido = apellido\n",
    "        self.edad = edad\n",
    "        \n",
    "persona1 = Persona('linux','torvals',55)\n",
    "print(f'Objeto persona1: {persona1.nombre},{persona1.apellido}, {persona1.edad}')\n",
    "print(\"modificacion de valores de un objeto\")\n",
    "persona1.nombre = 'debian'\n",
    "persona1.apellido = 'edicion12'\n",
    "persona1.edad = 71\n",
    "print(f'Objeto persona1: {persona1.nombre},{persona1.apellido}, {persona1.edad}')\n",
    "persona2= Persona('aws','bezos', 60)\n",
    "print(f'Objeto persona2: {persona2.nombre},{persona2.apellido}, {persona2.edad}')\n"
   ]
  },
  {
   "cell_type": "code",
   "execution_count": 30,
   "id": "f4a6f952-2467-48d8-a0fd-2f0743c8f32f",
   "metadata": {},
   "outputs": [
    {
     "name": "stdout",
     "output_type": "stream",
     "text": [
      "programacion orientada a objetos OOP\n",
      "persona: linux torvals 55\n",
      "542353636\n",
      "persona: aws bezos 60\n",
      "------------------------------------\n"
     ]
    }
   ],
   "source": [
    "print(\"programacion orientada a objetos OOP\")\n",
    "class Persona:\n",
    "    def __init__(self, nombre, apellido,edad):\n",
    "        self.nombre = nombre\n",
    "        self.apellido = apellido\n",
    "        self.edad = edad\n",
    "    def mostrar_detalle(self):\n",
    "        print(f'persona: {self.nombre} {self.apellido} {self.edad}')\n",
    "\n",
    "persona1 = Persona('linux','torvals',55)\n",
    "persona1.mostrar_detalle()\n",
    "persona1.telefono= '542353636'\n",
    "print(persona1.telefono)\n",
    "persona2= Persona('aws','bezos', 60)\n",
    "persona2.mostrar_detalle()\n",
    "print(\"------------------------------------\")"
   ]
  },
  {
   "cell_type": "code",
   "execution_count": 33,
   "id": "77a1d86b-be47-434e-852b-496db11055c9",
   "metadata": {},
   "outputs": [
    {
     "name": "stdout",
     "output_type": "stream",
     "text": [
      "clase aritmetica\n",
      "11\n",
      "3\n",
      "28\n",
      "1.75\n",
      "------------------------------------\n",
      "------------------------------------\n"
     ]
    }
   ],
   "source": [
    "print(\"clase aritmetica\")\n",
    "class Aritmetica:\n",
    "    def __init__(self,operandoA, operandoB):\n",
    "        self.operandoA= operandoA\n",
    "        self.operandoB = operandoB\n",
    "    def sumar(self):\n",
    "        return self.operandoA + self.operandoB\n",
    "    def resta(self):\n",
    "        return self.operandoA - self.operandoB\n",
    "    def producto(self):\n",
    "        return self.operandoA * self.operandoB\n",
    "    def division(self):\n",
    "        return self.operandoA / self.operandoB   \n",
    "aritmetica1 = Aritmetica(7,4)\n",
    "print(aritmetica1.sumar())\n",
    "print(aritmetica1.resta())\n",
    "print(aritmetica1.producto())\n",
    "print(aritmetica1.division())\n",
    "print(\"------------------------------------\")\n",
    "print(\"------------------------------------\")"
   ]
  },
  {
   "cell_type": "code",
   "execution_count": 36,
   "id": "bf586251-3d54-478d-95f4-a4b58e994521",
   "metadata": {},
   "outputs": [
    {
     "name": "stdout",
     "output_type": "stream",
     "text": [
      "clase rectangulo\n"
     ]
    },
    {
     "name": "stdin",
     "output_type": "stream",
     "text": [
      "ingrese el valor de base :  10\n",
      "ingrese la altura:  5\n"
     ]
    },
    {
     "name": "stdout",
     "output_type": "stream",
     "text": [
      "calcular el area :50\n",
      "------------------------------------\n"
     ]
    }
   ],
   "source": [
    "print(\"clase rectangulo\")\n",
    "class Rectangulo:\n",
    "    def __init__(self,base,altura):\n",
    "        self.base = base\n",
    "        self.altura = altura\n",
    "    def calcular_area(self):\n",
    "        return self.base * self.altura\n",
    "base = int(input(\"ingrese el valor de base : \"))\n",
    "altura=int(input(\"ingrese la altura: \"))\n",
    "rectangulo1 = Rectangulo(base, altura)\n",
    "print(f'calcular el area :{rectangulo1.calcular_area()}')\n",
    "        \n",
    "print(\"------------------------------------\")"
   ]
  },
  {
   "cell_type": "code",
   "execution_count": 37,
   "id": "a8fbca11-d9d8-4db0-94af-74cd29e2c032",
   "metadata": {},
   "outputs": [
    {
     "name": "stdout",
     "output_type": "stream",
     "text": [
      "clase Cubo\n"
     ]
    },
    {
     "name": "stdin",
     "output_type": "stream",
     "text": [
      "ingresa el ancho:  12\n",
      "ingresa el alto:  2\n",
      "ingresa el profundo:  2\n"
     ]
    },
    {
     "name": "stdout",
     "output_type": "stream",
     "text": [
      "cubo tiene : 48\n",
      "------------------------------------\n"
     ]
    }
   ],
   "source": [
    "print(\"clase Cubo\")\n",
    "class Cubo:\n",
    "    def __init__(self,ancho,alto,profundo):\n",
    "        self.ancho =ancho\n",
    "        self.alto = alto\n",
    "        self.profundo = profundo\n",
    "    def calcular_cubo(self):\n",
    "        return self.ancho * self.alto * self.profundo\n",
    "\n",
    "ancho = int(input(\"ingresa el ancho: \"))\n",
    "alto = int(input(\"ingresa el alto: \"))\n",
    "profundo = int(input(\"ingresa el profundo: \"))\n",
    "cubo1=Cubo(ancho,alto,profundo)\n",
    "print(f\"cubo tiene : {cubo1.calcular_cubo()}\")\n",
    "print(\"------------------------------------\")"
   ]
  },
  {
   "cell_type": "code",
   "execution_count": 41,
   "id": "34b103a5-6e05-4f24-8c24-5a99aeae13e1",
   "metadata": {},
   "outputs": [
    {
     "name": "stdout",
     "output_type": "stream",
     "text": [
      "encapsulamiento\n",
      "-------------------------\n",
      "llamando al metodo set nombre\n",
      "llamando al metodo get nombre\n",
      "debian1233\n",
      "-------------------------\n"
     ]
    }
   ],
   "source": [
    "print(\"encapsulamiento\")\n",
    "print(\"-------------------------\")\n",
    "class Persona:\n",
    "    def __init__(self, nombre, apellido,edad):\n",
    "        self._nombre = nombre\n",
    "        self.apellido = apellido\n",
    "        self.edad = edad \n",
    "    @property\n",
    "    def nombre(self):\n",
    "        print(\"llamando al metodo get nombre\")\n",
    "        return self._nombre\n",
    "\n",
    "    @nombre.setter\n",
    "    def nombre(self, nombre):\n",
    "        print(\"llamando al metodo set nombre\")\n",
    "        self._nombre = nombre\n",
    "\n",
    "    def mostrar_detalle(self):\n",
    "        print(f\"Persona: {self._nombre} {self.apellido} {self.edad}\")\n",
    "        \n",
    "persona1 = Persona(\"aws\", \"bezos\", 55)\n",
    "persona1.nombre=\"debian1233\"\n",
    "print(persona1.nombre)\n",
    "print(\"-------------------------\")"
   ]
  },
  {
   "cell_type": "code",
   "execution_count": 44,
   "id": "d8e9dd77-6dd7-4b7b-b0d8-8925e57096f5",
   "metadata": {},
   "outputs": [
    {
     "name": "stdout",
     "output_type": "stream",
     "text": [
      "encapsulamiento\n",
      "-------------------------\n",
      "llamando al metodo set nombre\n",
      "llamando al metodo get nombre\n",
      "debian1233\n",
      "Persona: debian1233 bezos 45\n",
      "-------------------------\n"
     ]
    }
   ],
   "source": [
    "print(\"encapsulamiento\")\n",
    "print(\"-------------------------\")\n",
    "class Persona:\n",
    "    def __init__(self, nombre, apellido,edad):\n",
    "        self._nombre = nombre\n",
    "        self._apellido = apellido\n",
    "        self._edad = edad \n",
    "    @property\n",
    "    def nombre(self):\n",
    "        print(\"llamando al metodo get nombre\")\n",
    "        return self._nombre\n",
    "\n",
    "    @nombre.setter\n",
    "    def nombre(self, nombre):\n",
    "        print(\"llamando al metodo set nombre\")\n",
    "        self._nombre = nombre\n",
    "\n",
    "    @property\n",
    "    def apellido(self):\n",
    "        return self._apellido\n",
    "    @apellido.setter\n",
    "    def apellido(self,apellido):\n",
    "        self._apellido = apellido\n",
    "    @property\n",
    "    def edad (self):\n",
    "        return self._edad\n",
    "    @edad.setter\n",
    "    def edad(self,edad):\n",
    "        self._edad = edad\n",
    "\n",
    "    def mostrar_detalle(self):\n",
    "        print(f\"Persona: {self._nombre} {self._apellido} {self._edad}\")\n",
    "        \n",
    "persona1 = Persona(\"aws\", \"bezos\", 55)\n",
    "persona1.nombre=\"debian1233\"\n",
    "print(persona1.nombre)\n",
    "persona1.appelido =\"jojo\"\n",
    "persona1.edad = 45\n",
    "persona1.mostrar_detalle()\n",
    "print(\"-------------------------\")"
   ]
  },
  {
   "cell_type": "code",
   "execution_count": 46,
   "id": "727d3326-0251-4816-8bab-5be14eaafaef",
   "metadata": {},
   "outputs": [],
   "source": [
    "#debemos hacerlo de un archivo nuevo e importamos \n",
    "#el modulo o la clase Persona antes creada \n",
    "#from Persona import Persona\n",
    "#persona1 = Persona('elon','musk',56)\n",
    "#persona1.mostrar_detalle()"
   ]
  },
  {
   "cell_type": "code",
   "execution_count": 3,
   "id": "8e166098-f97c-4ab2-b6ba-421399c3f28c",
   "metadata": {},
   "outputs": [
    {
     "name": "stdout",
     "output_type": "stream",
     "text": [
      "herencia\n",
      "-----------------------\n",
      "marco\n",
      "28\n",
      "7000\n"
     ]
    }
   ],
   "source": [
    "print(\"herencia\")\n",
    "print(\"-----------------------\")\n",
    "class Persona:\n",
    "    def __init__(self, nombre,edad):\n",
    "        self.nombre = nombre\n",
    "        self.edad = edad\n",
    "class Empleado(Persona):\n",
    "    def __init__(self,nombre, edad,sueldo):\n",
    "        super().__init__(nombre,edad)\n",
    "        self.sueldo = sueldo\n",
    "empleado1 = Empleado('marco', 28, 7000)\n",
    "print(empleado1.nombre)\n",
    "print(empleado1.edad)\n",
    "print(empleado1.sueldo)"
   ]
  },
  {
   "cell_type": "code",
   "execution_count": 9,
   "id": "4168a72b-ca1d-43fd-bc08-89ddf862ad68",
   "metadata": {},
   "outputs": [
    {
     "name": "stdout",
     "output_type": "stream",
     "text": [
      "herencia ejercicio\n",
      "color: rojo, ruedas: 4\n",
      "color: azul, ruedas: 4 velocidad:(km/hr): 150\n",
      "color: blanca, ruedas: 2, tipo urbano\n",
      "-----------------------\n"
     ]
    }
   ],
   "source": [
    "print(\"herencia ejercicio\")\n",
    "class Vehiculo:\n",
    "    def __init__(self, color,ruedas):\n",
    "        self.color = color \n",
    "        self.ruedas = ruedas \n",
    "    def __str__(self):\n",
    "        return 'color: ' + self.color + ', ruedas: ' + str(self.ruedas)\n",
    "\n",
    "class Coche(Vehiculo):\n",
    "    def __init__(self, color, ruedas, velocidad):\n",
    "        super().__init__(color, ruedas)\n",
    "        self.velocidad = velocidad\n",
    "\n",
    "    def __str__(self):\n",
    "        return super().__str__() + ' velocidad:(km/hr): ' + str(self.velocidad)\n",
    "\n",
    "class Bicicleta(Vehiculo):\n",
    "    def __init__(self, color, ruedas, tipo):\n",
    "        super().__init__(color, ruedas)\n",
    "        self.tipo = tipo\n",
    "    def __str__(self):\n",
    "        return super().__str__() + ', tipo' + self.tipo\n",
    "\n",
    "vehiculo =Vehiculo('rojo', 4)\n",
    "print(vehiculo)\n",
    "coche=Coche('azul', 4, 150)\n",
    "print(coche)\n",
    "bicicleta = Bicicleta('blanca', 2, ' urbano')\n",
    "print(bicicleta)\n",
    "        \n",
    "print(\"-----------------------\")"
   ]
  },
  {
   "cell_type": "code",
   "execution_count": 2,
   "id": "69f601e7-6139-4ebc-bd07-b8724941d3e4",
   "metadata": {},
   "outputs": [
    {
     "name": "stdout",
     "output_type": "stream",
     "text": [
      "herencia multiple\n",
      "--------------------------\n",
      "7\n",
      "7\n",
      "rojo\n",
      "49\n",
      "[<class '__main__.Cuadrado'>, <class '__main__.FiguraGeometrica'>, <class '__main__.Color'>, <class 'object'>]\n",
      "--------------------------\n"
     ]
    }
   ],
   "source": [
    "print(\"herencia multiple\")\n",
    "print(\"--------------------------\")\n",
    "class FiguraGeometrica:\n",
    "    def __init__(self, ancho, alto):\n",
    "        self.ancho = ancho\n",
    "        self.alto = alto\n",
    "class Color:\n",
    "    def __init__(self,color):\n",
    "        self.color=color\n",
    "class Cuadrado(FiguraGeometrica, Color):\n",
    "    def __init__(self, lado, color):\n",
    "        FiguraGeometrica.__init__(self,lado,lado)\n",
    "        Color.__init__(self,color)\n",
    "    def calcular_area(self):\n",
    "        return self.alto * self.ancho\n",
    "\n",
    "cuadrado1 = Cuadrado(7,'rojo')\n",
    "print(cuadrado1.ancho)\n",
    "print(cuadrado1.alto)\n",
    "print(cuadrado1.color)\n",
    "print(cuadrado1.calcular_area())\n",
    "\n",
    "print(Cuadrado.mro())  \n",
    "print(\"--------------------------\")"
   ]
  },
  {
   "cell_type": "code",
   "execution_count": 5,
   "id": "36513298-1af2-4c95-b37d-42300c9a72a5",
   "metadata": {},
   "outputs": [
    {
     "name": "stdout",
     "output_type": "stream",
     "text": [
      "herencia multiple con encapsulamiento\n",
      "--------------------------\n",
      " Calculo del area cuadrado:49\n",
      "figura geometrica [Ancho: 7, Alto: 7] Color [color: rojo]\n",
      "--------------------------\n"
     ]
    }
   ],
   "source": [
    "print(\"herencia multiple con encapsulamiento\")\n",
    "print(\"--------------------------\")\n",
    "class FiguraGeometrica:\n",
    "    def __init__(self, ancho, alto):\n",
    "        self._ancho = ancho\n",
    "        self._alto = alto\n",
    "    @property\n",
    "    def ancho(self):\n",
    "        return self._ancho\n",
    "    @ancho.setter\n",
    "    def ancho(self, ancho):\n",
    "        self._ancho = ancho\n",
    "    @property\n",
    "    def alto(self):\n",
    "        return self._alto\n",
    "    @ancho.setter\n",
    "    def alto(self, alto):\n",
    "        self._alto = alto\n",
    "    def __str__(self):\n",
    "        return f\"figura geometrica [Ancho: {self._ancho}, Alto: {self._alto}]\"\n",
    "class Color:\n",
    "    def __init__(self,color):\n",
    "        self._color=color\n",
    "    @property\n",
    "    def color(self):\n",
    "        return self._color\n",
    "    @color.setter\n",
    "    def color(self, color):\n",
    "        self._color = color\n",
    "    def __str__(self):\n",
    "        return f'Color [color: {self._color}]'\n",
    "class Cuadrado(FiguraGeometrica, Color):\n",
    "    def __init__(self, lado, color):\n",
    "        FiguraGeometrica.__init__(self,lado,lado)\n",
    "        Color.__init__(self,color)\n",
    "    def calcular_area(self):\n",
    "        return self.alto * self.ancho\n",
    "    def __str__(self):\n",
    "        return f'{FiguraGeometrica.__str__(self)} {Color.__str__(self)}'\n",
    "\n",
    "\n",
    "cuadrado1 = Cuadrado(7, 'rojo')\n",
    "print(f' Calculo del area cuadrado:{cuadrado1.calcular_area()}')\n",
    "print(cuadrado1)\n",
    "print(\"--------------------------\")"
   ]
  },
  {
   "cell_type": "code",
   "execution_count": 5,
   "id": "2a3b87da-6f83-43aa-828b-b991f5f0e6bb",
   "metadata": {},
   "outputs": [
    {
     "name": "stdout",
     "output_type": "stream",
     "text": [
      "ejercicio con OOP contador de objetos\n",
      "--------------------------------------\n",
      "Persona [1 zero 44]\n",
      "Persona [2 cool 34]\n",
      "Persona [3 linux 66]\n",
      "valor contador personas: 3\n",
      "--------------------------------------\n"
     ]
    }
   ],
   "source": [
    "print(\"ejercicio con OOP contador de objetos\")\n",
    "print(\"--------------------------------------\")\n",
    "class Persona:\n",
    "    \n",
    "    contador = 0\n",
    "\n",
    "    def __init__(self, nombre,edad):\n",
    "        Persona.contador += 1\n",
    "        self.id_persona = Persona.contador\n",
    "        self.nombre = nombre\n",
    "        self.edad = edad\n",
    "    def __str__(self):\n",
    "        return f'Persona [{self.id_persona} {self.nombre} {self.edad}]'\n",
    "\n",
    "persona1 = Persona('zero',44)\n",
    "print(persona1)\n",
    "persona2 = Persona('cool',34)\n",
    "print(persona2)\n",
    "persona3 = Persona('linux',66)\n",
    "print(persona3)\n",
    "print(f'valor contador personas: {Persona.contador}')\n",
    "print(\"--------------------------------------\")    "
   ]
  },
  {
   "cell_type": "code",
   "execution_count": 8,
   "id": "bbb7e336-db42-4588-a3fb-f3009a16fb84",
   "metadata": {},
   "outputs": [
    {
     "name": "stdout",
     "output_type": "stream",
     "text": [
      "diseño de clases\n",
      "--------------------------------------\n",
      "id producto: 1, Nombre camisa, Precio: 100.0\n",
      "id producto: 2, Nombre jeans, Precio: 150.0\n",
      "--------------------------------------\n"
     ]
    }
   ],
   "source": [
    "print(\"diseño de clases\")\n",
    "print(\"--------------------------------------\")\n",
    "class Producto:\n",
    "    contador = 0\n",
    "    def __init__(self, nombre, precio):\n",
    "        Producto.contador += 1 \n",
    "        self._id_producto =Producto.contador\n",
    "        self._nombre = nombre\n",
    "        self._precio = precio\n",
    "\n",
    "    @property\n",
    "    def precio(self):\n",
    "        return self._precio\n",
    "        \n",
    "    def __str__(self):\n",
    "        return f'id producto: {self._id_producto}, Nombre {self._nombre}, Precio: {self._precio}'\n",
    "\n",
    "if __name__ == '__main__':\n",
    "    producto1 = Producto('camisa', 100.00)\n",
    "    print(producto1)\n",
    "    producto2 = Producto('jeans', 150.00)\n",
    "    print(producto2)\n",
    "print(\"--------------------------------------\")"
   ]
  },
  {
   "cell_type": "code",
   "execution_count": 31,
   "id": "79f45502-eedb-4fca-8160-ad7a3fbef484",
   "metadata": {},
   "outputs": [
    {
     "name": "stdout",
     "output_type": "stream",
     "text": [
      "diseño de clases\n",
      "--------------------------------------\n",
      "id producto: 1, Nombre: camisa, Precio: 100.0\n",
      "id producto: 2, Nombre: jeans, Precio: 150.0\n",
      "id producto: 3, Nombre: medias, Precio: 18.0\n",
      "id producto: 4, Nombre: boxer, Precio: 15.0\n",
      "--------------------------------------\n",
      "Orden: 1, Productos: id producto: 5, Nombre: camisa, Precio: 100.0|id producto: 6, Nombre: jeans, Precio: 150.0|id producto: 3, Nombre: medias, Precio: 18.0|id producto: 4, Nombre: boxer, Precio: 15.0|\n",
      "Calcular total de la orden1:283.0\n",
      "Orden: 2, Productos: id producto: 3, Nombre: medias, Precio: 18.0|id producto: 4, Nombre: boxer, Precio: 15.0|\n",
      "Calcular total de la orden2:33.0\n",
      "--------------------------------------\n"
     ]
    }
   ],
   "source": [
    "print(\"diseño de clases\")\n",
    "print(\"--------------------------------------\")\n",
    "class Producto:\n",
    "    contador = 0\n",
    "    def __init__(self, nombre, precio):\n",
    "        Producto.contador += 1 \n",
    "        self._id_producto =Producto.contador\n",
    "        self._nombre = nombre\n",
    "        self._precio = precio\n",
    "\n",
    "    @property\n",
    "    def precio(self):\n",
    "        return self._precio\n",
    "        \n",
    "    def __str__(self):\n",
    "        return f'id producto: {self._id_producto}, Nombre: {self._nombre}, Precio: {self._precio}'\n",
    "\n",
    "if __name__ == '__main__':\n",
    "    producto1 = Producto('camisa', 100.00)\n",
    "    print(producto1)\n",
    "    producto2 = Producto('jeans', 150.00)\n",
    "    print(producto2)\n",
    "    producto3 = Producto('medias', 18.00)\n",
    "    print(producto3)\n",
    "    producto4 = Producto('boxer', 15.00)\n",
    "    print(producto4)\n",
    "print(\"--------------------------------------\")   \n",
    "class Orden:\n",
    "    contador = 0\n",
    "    def __init__(self, productos):\n",
    "        Orden.contador += 1 \n",
    "        self._id_orden = Orden.contador\n",
    "        self._productos = list(productos)\n",
    "        \n",
    "    def agregar_productos(self, producto):\n",
    "        self._productos.append(producto)\n",
    "\n",
    "    def calcular_total(self):\n",
    "       total = 0\n",
    "       for producto in self._productos:\n",
    "           total += producto.precio\n",
    "       return total\n",
    "       \n",
    "    def __str__(self):\n",
    "       productos_str = ''\n",
    "       for producto in self._productos:\n",
    "           productos_str += producto.__str__() + '|'\n",
    "       return f'Orden: {self._id_orden}, Productos: {productos_str}'\n",
    "if __name__ =='__main__':\n",
    "    producto1 = Producto('camisa', 100.00)\n",
    "    producto2 = Producto('jeans', 150.00)\n",
    "    productos1 = [producto1, producto2]\n",
    "    productos2 = [producto3, producto4]\n",
    "    orden1 = Orden(productos1)\n",
    "    orden1.agregar_productos(producto3)\n",
    "    orden1.agregar_productos(producto4)\n",
    "    print(orden1)\n",
    "    print(f'Calcular total de la orden1:{orden1.calcular_total()}')\n",
    "    orden2 = Orden(productos2)\n",
    "    print(orden2)\n",
    "    print(f'Calcular total de la orden2:{orden2.calcular_total()}')\n",
    "           \n",
    "print(\"--------------------------------------\")"
   ]
  },
  {
   "cell_type": "code",
   "execution_count": 4,
   "id": "52a44b70-018d-4e41-af28-242e86612597",
   "metadata": {},
   "outputs": [
    {
     "name": "stdout",
     "output_type": "stream",
     "text": [
      "sobrecarga de operadores OOP\n",
      "-------------------------------\n",
      "linux::debian\n",
      "13\n",
      "-------------------------------\n"
     ]
    }
   ],
   "source": [
    "print(\"sobrecarga de operadores OOP\")\n",
    "print(\"-------------------------------\")\n",
    "class Persona:\n",
    "    def __init__(self, nombre,edad):\n",
    "        self.nombre = nombre\n",
    "        self.edad = edad\n",
    "    def __add__(self, otro):\n",
    "        return f'{self.nombre}::{otro.nombre}'\n",
    "    def __sub__(self,otro):\n",
    "        return self.edad - otro.edad\n",
    "        \n",
    "persona1 = Persona(\"linux\",33)\n",
    "persona2 = Persona(\"debian\",20)\n",
    "print(persona1 + persona2)\n",
    "print(persona1 - persona2)        \n",
    "print(\"-------------------------------\")"
   ]
  },
  {
   "cell_type": "code",
   "execution_count": 10,
   "id": "b28714a5-da15-4cb7-b7c6-a6d9b8c855e7",
   "metadata": {},
   "outputs": [
    {
     "name": "stdout",
     "output_type": "stream",
     "text": [
      "POLIFORMISMO OOP\n",
      "-----------------------\n",
      "Empleado [Nombre: juan, Sueldo: 7000]\n",
      "<class '__main__.Empleado'>\n",
      "-----------------------\n",
      "Gerente [Departamento: sistemas]Empleado [Nombre: karla, Sueldo: 7000]\n",
      "<class '__main__.Gerente'>\n",
      "-----------------------\n"
     ]
    }
   ],
   "source": [
    "print(\"POLIFORMISMO OOP\")\n",
    "print(\"-----------------------\")\n",
    "class Empleado:\n",
    "    def __init__(self, nombre, sueldo):\n",
    "        self.nombre = nombre\n",
    "        self.sueldo = sueldo\n",
    "    def __str__(self):\n",
    "        return f'Empleado [Nombre: {self.nombre}, Sueldo: {self.sueldo}]'\n",
    "        \n",
    "class Gerente(Empleado):\n",
    "    def __init__(self,nombre, sueldo, departamento):\n",
    "        super().__init__(nombre, sueldo)\n",
    "        self.departamento = departamento\n",
    "\n",
    "    def __str__(self):\n",
    "        return f'Gerente [Departamento: {self.departamento}]{super().__str__()}'\n",
    "\n",
    "def imprimir_detalles(objeto):\n",
    "    print(objeto)\n",
    "    print(type(objeto))\n",
    "    \n",
    "    \n",
    "    \n",
    "empleado = Empleado('juan', 7000)\n",
    "imprimir_detalles(empleado)\n",
    "print(\"-----------------------\")\n",
    "gerente =Gerente('karla', 7000, 'sistemas')\n",
    "imprimir_detalles(gerente)\n",
    "print(\"-----------------------\")"
   ]
  },
  {
   "cell_type": "code",
   "execution_count": 27,
   "id": "3e5bad24-080f-44f5-965f-069409e291c9",
   "metadata": {},
   "outputs": [
    {
     "name": "stdout",
     "output_type": "stream",
     "text": [
      "manejo de errores o excepciones\n",
      "--------------------------------\n"
     ]
    },
    {
     "name": "stdin",
     "output_type": "stream",
     "text": [
      "primer numero:  10\n",
      "segundo numero:  2\n"
     ]
    },
    {
     "name": "stdout",
     "output_type": "stream",
     "text": [
      "no se arrojo ninguna excepcion todo funciona bien\n",
      "ejecucion del bloque finally\n",
      "Resultado: 5.0\n",
      "continua el programa\n",
      "--------------------------------\n"
     ]
    }
   ],
   "source": [
    "print(\"manejo de errores o excepciones\")\n",
    "print(\"--------------------------------\")\n",
    "resultado = None\n",
    "try:\n",
    "    a = int(input(\"primer numero: \")) #colocar como string o int 10 0 '10'\n",
    "    b = int(input(\"segundo numero: \"))\n",
    "    resultado = a/b \n",
    "except ZeroDivisionError as e:\n",
    "    print(f\"ocurrio un error {e}\")\n",
    "except ValueError as e:\n",
    "    print(f\"ocurrio un error {e}\")\n",
    "except TypeError as e:\n",
    "    print(f\"ocurrio un error {e}\")\n",
    "except Exception as e:\n",
    "    print(f\"ocurrio un error {e}\")\n",
    "else:\n",
    "    print('no se arrojo ninguna excepcion todo funciona bien')\n",
    "finally:\n",
    "    print(\"ejecucion del bloque finally\")\n",
    "print(f\"Resultado: {resultado}\")\n",
    "print(\"continua el programa\")\n",
    "print(\"--------------------------------\")"
   ]
  },
  {
   "cell_type": "code",
   "execution_count": 4,
   "id": "5ddb06ae-efec-48da-97d9-03584568530a",
   "metadata": {},
   "outputs": [
    {
     "name": "stdout",
     "output_type": "stream",
     "text": [
      "manejo de archivos\n",
      "-----------------------\n",
      "fin del archivo\n",
      "------------------------\n"
     ]
    }
   ],
   "source": [
    "print(\"manejo de archivos\")\n",
    "print(\"-----------------------\")\n",
    "try:\n",
    "    archivo = open('prueba.txt', 'w', encoding='utf8')\n",
    "    archivo.write(\"agregamos info\\n\")\n",
    "    archivo.write(\"adios\")\n",
    "except Exception as e:\n",
    "    print(e)\n",
    "finally:\n",
    "    archivo.close()\n",
    "    print('fin del archivo')\n",
    "print(\"------------------------\")"
   ]
  },
  {
   "cell_type": "code",
   "execution_count": 7,
   "id": "5979695c-a64d-4350-a986-db474a5dabb9",
   "metadata": {},
   "outputs": [
    {
     "name": "stdout",
     "output_type": "stream",
     "text": [
      "leer info del archivo\n",
      "-----------------------\n",
      "agregamos info\n",
      "adios\n",
      "-----------------------\n"
     ]
    }
   ],
   "source": [
    "print(\"leer info del archivo\")\n",
    "print(\"-----------------------\")\n",
    "archivo = open('prueba.txt', 'r', encoding='utf8')\n",
    "print(archivo.read())\n",
    "#print(archivo.readlines())#lee lineas completas\n",
    "print(\"-----------------------\")"
   ]
  },
  {
   "cell_type": "code",
   "execution_count": 3,
   "id": "4fb89d13-e59b-4670-af36-d0801a39a05e",
   "metadata": {},
   "outputs": [
    {
     "name": "stdout",
     "output_type": "stream",
     "text": [
      "mas formas de trabajar archivos\n",
      "-----------------------\n",
      "agregamos info\n",
      "\n",
      "adios\n",
      "\n",
      "ultima linea \n",
      "\n",
      "linux aprender urgente \n",
      "-----------------------\n"
     ]
    }
   ],
   "source": [
    "print(\"mas formas de trabajar archivos\")\n",
    "print(\"-----------------------\")\n",
    "archivo = open('prueba.txt', 'r', encoding='utf8')\n",
    "for linea in archivo:\n",
    "    print(linea)\n",
    "#print(archivo.readlines())#lee lineas completas\n",
    "#si vamos al archivo lo podemos editar \n",
    "print(\"-----------------------\")"
   ]
  },
  {
   "cell_type": "code",
   "execution_count": 4,
   "id": "5e1c42d6-b7b5-47c6-8a71-026816b0565b",
   "metadata": {},
   "outputs": [
    {
     "name": "stdout",
     "output_type": "stream",
     "text": [
      "anexamos info al archivo\n",
      "-----------------------\n",
      "termino el proceso de leer y copiar\n",
      "-----------------------\n"
     ]
    }
   ],
   "source": [
    "print(\"anexamos info al archivo\")\n",
    "print(\"-----------------------\")\n",
    "archivo2 = open('copia.txt', 'a', encoding='utf8')\n",
    "archivo2.write(archivo.read())\n",
    "archivo.close()\n",
    "archivo2.close()\n",
    "print(\"termino el proceso de leer y copiar\")\n",
    "#print(archivo.readlines())#lee lineas completas\n",
    "print(\"-----------------------\")"
   ]
  },
  {
   "cell_type": "code",
   "execution_count": 8,
   "id": "ab1b822d-c653-416f-ba02-d1d59283241f",
   "metadata": {},
   "outputs": [
    {
     "name": "stdout",
     "output_type": "stream",
     "text": [
      "manejo de archivos con with\n",
      "________________________________\n",
      "\n",
      "________________________________\n"
     ]
    }
   ],
   "source": [
    "print(\"manejo de archivos con with\")\n",
    "print(\"________________________________\")\n",
    "with open('prueba.txt','r', encoding='utf8') as archivo:\n",
    "    print(archivo.read())\n",
    "print(\"________________________________\")"
   ]
  },
  {
   "cell_type": "code",
   "execution_count": 17,
   "id": "f1fa9551-bd6b-48fd-bf22-d94d7edf2bd7",
   "metadata": {},
   "outputs": [
    {
     "data": {
      "text/plain": [
       "'class ManejoArchivos:\\n    def __init__(self,nombre):\\n        self.nombre = nombre\\n    def __enter__(self):\\n        print(\"obtenemos el recurso: \".center(50,\\'-\\'))\\n        self.nombre = open(self.nombre, \\'r\\',encoding=\\'utf8\\')\\n        return self.nombre\\n    def __exit__(self, tipo_excepcion, valor_exepcion, traza_error):\\n        priint(\\'cerramos el recurso:\\'.center(50,\\'-\\'))\\n        if self.nombre:\\n            self.nombre.close()'"
      ]
     },
     "execution_count": 17,
     "metadata": {},
     "output_type": "execute_result"
    }
   ],
   "source": [
    "\"\"\"class ManejoArchivos:\n",
    "    def __init__(self,nombre):\n",
    "        self.nombre = nombre\n",
    "    def __enter__(self):\n",
    "        print(\"obtenemos el recurso: \".center(50,'-'))\n",
    "        self.nombre = open(self.nombre, 'r',encoding='utf8')\n",
    "        return self.nombre\n",
    "    def __exit__(self, tipo_excepcion, valor_exepcion, traza_error):\n",
    "        priint('cerramos el recurso:'.center(50,'-'))\n",
    "        if self.nombre:\n",
    "            self.nombre.close()\"\"\"\n"
   ]
  },
  {
   "cell_type": "code",
   "execution_count": 18,
   "id": "38cff4e5-4e87-4d8c-be3a-658df8a921ea",
   "metadata": {},
   "outputs": [
    {
     "data": {
      "text/plain": [
       "\"from ManejoArchivos import ManejoArchivos\\nwith ManejoArchivos('prueba.txt') as archivo:\\n    print(archivo.read())\""
      ]
     },
     "execution_count": 18,
     "metadata": {},
     "output_type": "execute_result"
    }
   ],
   "source": [
    "\"\"\"from ManejoArchivos import ManejoArchivos\n",
    "with ManejoArchivos('prueba.txt') as archivo:\n",
    "    print(archivo.read())\"\"\""
   ]
  },
  {
   "cell_type": "code",
   "execution_count": 5,
   "id": "bfa84284-05c1-441e-93c4-26e7f679c2f2",
   "metadata": {},
   "outputs": [
    {
     "name": "stdout",
     "output_type": "stream",
     "text": [
      "!pip install psycopg2\n",
      "!pip install mysql-connector si queremos trabajar con mysql\n",
      "instalamos el modulo para conectarnos con postgrstql\n"
     ]
    }
   ],
   "source": [
    "print(\"!pip install psycopg2\")\n",
    "print(\"!pip install mysql-connector si queremos trabajar con mysql\")\n",
    "print(\"instalamos el modulo para conectarnos con postgrstql\")"
   ]
  },
  {
   "cell_type": "code",
   "execution_count": 8,
   "id": "ce89beea-8db5-412d-9e31-fcf04bffe553",
   "metadata": {},
   "outputs": [
    {
     "name": "stdout",
     "output_type": "stream",
     "text": [
      "conexion con la base de datos postgresql\n",
      "_____________________________________________\n",
      "<connection object at 0x000002109B213BC0; dsn: 'user=postgres password=xxx dbname=test_db host=127.0.0.1 port=5432', closed: 0>\n",
      "________________________________________________\n",
      "verificamos que tengamos conexion con postgresql\n",
      "________________________________________________\n"
     ]
    }
   ],
   "source": [
    "print(\"conexion con la base de datos postgresql\")\n",
    "print(\"_____________________________________________\")\n",
    "import psycopg2\n",
    "conexion = psycopg2.connect(user='postgres',\n",
    "                            password='admin',\n",
    "                            host='127.0.0.1',\n",
    "                            port='5432',\n",
    "                           database='test_db')\n",
    "print(conexion)\n",
    "print(\"________________________________________________\")\n",
    "print(\"verificamos que tengamos conexion con postgresql\")\n",
    "print(\"________________________________________________\")"
   ]
  },
  {
   "cell_type": "code",
   "execution_count": 12,
   "id": "a597b0bf-1347-4072-9f67-9d0e240622c4",
   "metadata": {},
   "outputs": [
    {
     "name": "stdout",
     "output_type": "stream",
     "text": [
      "conexion con la base de datos postgresql\n",
      "recuperamos los registros\n",
      "_____________________________________________\n",
      "[(1, 'juan', 'perez', 'jperez@gmail'), (2, 'carla', 'alvarez', 'ka@gmail.com')]\n",
      "________________________________________________\n"
     ]
    }
   ],
   "source": [
    "print(\"conexion con la base de datos postgresql\")\n",
    "print(\"recuperamos los registros\")\n",
    "print(\"_____________________________________________\")\n",
    "import psycopg2\n",
    "conexion = psycopg2.connect(user='postgres',\n",
    "                            password='admin',\n",
    "                            host='127.0.0.1',\n",
    "                            port='5432',\n",
    "                           database='test_db')\n",
    "cursor = conexion.cursor()\n",
    "sentencia ='SELECT * FROM persona'\n",
    "cursor.execute(sentencia)\n",
    "registros =cursor.fetchall()\n",
    "print(registros)\n",
    "cursor.close()\n",
    "conexion.close()\n",
    "print(\"________________________________________________\")"
   ]
  },
  {
   "cell_type": "code",
   "execution_count": 13,
   "id": "0155eb27-52e6-4802-89e9-764d5761a00f",
   "metadata": {},
   "outputs": [
    {
     "name": "stdout",
     "output_type": "stream",
     "text": [
      "conexion con la base de datos postgresql\n",
      "uso de with\n",
      "_____________________________________________\n",
      "[(1, 'juan', 'perez', 'jperez@gmail'), (2, 'carla', 'alvarez', 'ka@gmail.com')]\n",
      "________________________________________________\n"
     ]
    }
   ],
   "source": [
    "print(\"conexion con la base de datos postgresql\")\n",
    "print(\"uso de with\")\n",
    "print(\"_____________________________________________\")\n",
    "import psycopg2\n",
    "conexion = psycopg2.connect(user='postgres',\n",
    "                            password='admin',\n",
    "                            host='127.0.0.1',\n",
    "                            port='5432',\n",
    "                           database='test_db')\n",
    "try:\n",
    "    with conexion:\n",
    "        with conexion.cursor() as cursor:\n",
    "            sentencia ='SELECT * FROM persona'\n",
    "            cursor.execute(sentencia)\n",
    "            registros =cursor.fetchall()\n",
    "            print(registros)\n",
    "except Exception as e:\n",
    "    print(\"ocurrio un error: {e}\")\n",
    "finally:\n",
    "    conexion.close()\n",
    "print(\"________________________________________________\")"
   ]
  },
  {
   "cell_type": "code",
   "execution_count": 18,
   "id": "813e467f-c26b-413a-82b8-fcf62057a724",
   "metadata": {},
   "outputs": [
    {
     "name": "stdout",
     "output_type": "stream",
     "text": [
      "conexion con la base de datos postgresql\n",
      "como recuperar un solo registro atraves de un input del user\n",
      "_____________________________________________\n"
     ]
    },
    {
     "name": "stdin",
     "output_type": "stream",
     "text": [
      "ingrese el valor de id_persona:  1\n"
     ]
    },
    {
     "name": "stdout",
     "output_type": "stream",
     "text": [
      "(1, 'juan', 'perez', 'jperez@gmail')\n",
      "________________________________________________\n"
     ]
    }
   ],
   "source": [
    "print(\"conexion con la base de datos postgresql\")\n",
    "print(\"como recuperar un solo registro atraves de un input del user\")\n",
    "print(\"_____________________________________________\")\n",
    "import psycopg2\n",
    "conexion = psycopg2.connect(user='postgres',\n",
    "                            password='admin',\n",
    "                            host='127.0.0.1',\n",
    "                            port='5432',\n",
    "                           database='test_db')\n",
    "try:\n",
    "    with conexion:\n",
    "        with conexion.cursor() as cursor:\n",
    "            sentencia ='SELECT * FROM persona WHERE id_persona =%s'\n",
    "            id_persona =input(\"ingrese el valor de id_persona: \")\n",
    "            cursor.execute(sentencia,(id_persona,))\n",
    "            registros =cursor.fetchone()\n",
    "            print(registros)\n",
    "except Exception as e:\n",
    "    print(\"ocurrio un error: {e}\")\n",
    "finally:\n",
    "    conexion.close()\n",
    "print(\"________________________________________________\")"
   ]
  },
  {
   "cell_type": "code",
   "execution_count": 19,
   "id": "e3277c5d-6619-4591-8691-c76d839e661f",
   "metadata": {},
   "outputs": [
    {
     "name": "stdout",
     "output_type": "stream",
     "text": [
      "conexion con la base de datos postgresql\n",
      "como recuperar varios registro\n",
      "_____________________________________________\n",
      "(1, 'juan', 'perez', 'jperez@gmail')\n",
      "(2, 'carla', 'alvarez', 'ka@gmail.com')\n",
      "________________________________________________\n"
     ]
    }
   ],
   "source": [
    "print(\"conexion con la base de datos postgresql\")\n",
    "print(\"como recuperar varios registro\")\n",
    "print(\"_____________________________________________\")\n",
    "import psycopg2\n",
    "conexion = psycopg2.connect(user='postgres',\n",
    "                            password='admin',\n",
    "                            host='127.0.0.1',\n",
    "                            port='5432',\n",
    "                           database='test_db')\n",
    "try:\n",
    "    with conexion:\n",
    "        with conexion.cursor() as cursor:\n",
    "            sentencia ='SELECT * FROM persona WHERE id_persona IN (1,2)'\n",
    "            #id_persona =input(\"ingrese el valor de id_persona: \")\n",
    "            cursor.execute(sentencia)\n",
    "            registros =cursor.fetchall()\n",
    "            for registro in registros:\n",
    "                print(registro)\n",
    "            \n",
    "except Exception as e:\n",
    "    print(\"ocurrio un error: {e}\")\n",
    "finally:\n",
    "    conexion.close()\n",
    "print(\"________________________________________________\")"
   ]
  },
  {
   "cell_type": "code",
   "execution_count": 20,
   "id": "36cc0178-3a6c-427e-ba1d-ccc6c4493c67",
   "metadata": {},
   "outputs": [
    {
     "name": "stdout",
     "output_type": "stream",
     "text": [
      "conexion con la base de datos postgresql\n",
      "como recuperar varios registro\n",
      "_____________________________________________\n",
      "(1, 'juan', 'perez', 'jperez@gmail')\n",
      "(2, 'carla', 'alvarez', 'ka@gmail.com')\n",
      "________________________________________________\n"
     ]
    }
   ],
   "source": [
    "print(\"conexion con la base de datos postgresql\")\n",
    "print(\"como recuperar varios registro\")\n",
    "print(\"_____________________________________________\")\n",
    "import psycopg2\n",
    "conexion = psycopg2.connect(user='postgres',\n",
    "                            password='admin',\n",
    "                            host='127.0.0.1',\n",
    "                            port='5432',\n",
    "                           database='test_db')\n",
    "try:\n",
    "    with conexion:\n",
    "        with conexion.cursor() as cursor:\n",
    "            sentencia ='SELECT * FROM persona WHERE id_persona IN %s'\n",
    "            llaves_primarias = ((1,2,3),)\n",
    "            #id_persona =input(\"ingrese el valor de id_persona: \")\n",
    "            cursor.execute(sentencia,llaves_primarias)\n",
    "            registros =cursor.fetchall()\n",
    "            for registro in registros:\n",
    "                print(registro)\n",
    "            \n",
    "except Exception as e:\n",
    "    print(\"ocurrio un error: {e}\")\n",
    "finally:\n",
    "    conexion.close()\n",
    "print(\"________________________________________________\")"
   ]
  },
  {
   "cell_type": "code",
   "execution_count": 1,
   "id": "01e44d12-38a1-4ca9-8a43-91a64a57cd42",
   "metadata": {},
   "outputs": [
    {
     "name": "stdout",
     "output_type": "stream",
     "text": [
      "conexion con la base de datos postgresql\n",
      "como recuperar varios registro\n",
      "_____________________________________________\n"
     ]
    },
    {
     "name": "stdin",
     "output_type": "stream",
     "text": [
      "ingrese los id\n",
      " a buscar (separado por coma):  1,2,3\n"
     ]
    },
    {
     "name": "stdout",
     "output_type": "stream",
     "text": [
      "(1, 'juan', 'perez', 'jperez@gmail')\n",
      "(2, 'carla', 'alvarez', 'ka@gmail.com')\n",
      "________________________________________________\n"
     ]
    }
   ],
   "source": [
    "print(\"conexion con la base de datos postgresql\")\n",
    "print(\"como recuperar varios registro\")\n",
    "print(\"_____________________________________________\")\n",
    "import psycopg2\n",
    "conexion = psycopg2.connect(user='postgres',\n",
    "                            password='admin',\n",
    "                            host='127.0.0.1',\n",
    "                            port='5432',\n",
    "                           database='test_db')\n",
    "try:\n",
    "    with conexion:\n",
    "        with conexion.cursor() as cursor:\n",
    "            sentencia ='SELECT * FROM persona WHERE id_persona IN %s'\n",
    "            #llaves_primarias = ((1,2,3),)\n",
    "            entrada=input(\"ingrese los id\\n a buscar (separado por coma): \")\n",
    "            llaves_primarias = (tuple(entrada.split(',')),)\n",
    "            cursor.execute(sentencia,llaves_primarias)\n",
    "            registros =cursor.fetchall()\n",
    "            for registro in registros:\n",
    "                print(registro)\n",
    "            \n",
    "except Exception as e:\n",
    "    print(\"ocurrio un error: {e}\")\n",
    "finally:\n",
    "    conexion.close()\n",
    "print(\"________________________________________________\")"
   ]
  },
  {
   "cell_type": "code",
   "execution_count": 4,
   "id": "b06c96b9-3b22-4334-89e8-a559b91da72e",
   "metadata": {},
   "outputs": [
    {
     "name": "stdout",
     "output_type": "stream",
     "text": [
      "conexion con la base de datos postgresql\n",
      "insertar registros\n",
      "_____________________________________________\n",
      "ocurrio un error: {e}\n",
      "________________________________________________\n"
     ]
    }
   ],
   "source": [
    "print(\"conexion con la base de datos postgresql\")\n",
    "print(\"insertar registros\")\n",
    "print(\"_____________________________________________\")\n",
    "import psycopg2\n",
    "conexion = psycopg2.connect(user='postgres',\n",
    "                            password='admin',\n",
    "                            host='127.0.0.1',\n",
    "                            port='5432',\n",
    "                           database='test_db')\n",
    "try:\n",
    "    with conexion:\n",
    "        with conexion.cursor() as cursor:\n",
    "            sentencia = 'INSERT INTO persona(nombre, apellido, email) VALUES(%s, %s, %s)'\n",
    "            valores = ('carlos','lara','clara@gmail.com')\n",
    "            cursor.execute(sentencia, valores)\n",
    "            registros_insertados = cursor.rowcount\n",
    "            print(f'resgistros insertados: {resgistros_insertados}')\n",
    "            \n",
    "except Exception as e:\n",
    "    print(\"ocurrio un error: {e}\")\n",
    "finally:\n",
    "    conexion.close()\n",
    "print(\"________________________________________________\")"
   ]
  },
  {
   "cell_type": "code",
   "execution_count": 5,
   "id": "c9eadfb7-de67-4474-a0f7-6e854d058eb0",
   "metadata": {},
   "outputs": [
    {
     "name": "stdout",
     "output_type": "stream",
     "text": [
      "conexion con la base de datos postgresql\n",
      "insertar varios registros\n",
      "_____________________________________________\n",
      "ocurrio un error: {e}\n",
      "________________________________________________\n"
     ]
    }
   ],
   "source": [
    "print(\"conexion con la base de datos postgresql\")\n",
    "print(\"insertar varios registros\")\n",
    "print(\"_____________________________________________\")\n",
    "import psycopg2\n",
    "conexion = psycopg2.connect(user='postgres',\n",
    "                            password='admin',\n",
    "                            host='127.0.0.1',\n",
    "                            port='5432',\n",
    "                           database='test_db')\n",
    "try:\n",
    "    with conexion:\n",
    "        with conexion.cursor() as cursor:\n",
    "            sentencia = 'INSERT INTO persona(nombre, apellido, email) VALUES(%s, %s, %s)'\n",
    "            valores = (\n",
    "                ('carlos','lara','clara@gmail.com'),\n",
    "                ('esteban', 'garzon', 'eg@gmail.com'),\n",
    "                ('gustavo', 'arrieta', 'ga@gmail.com')\n",
    "            )\n",
    "            cursor.executemany(sentencia, valores)\n",
    "            registros_insertados = cursor.rowcount\n",
    "            print(f'resgistros insertados: {resgistros_insertados}')\n",
    "            \n",
    "except Exception as e:\n",
    "    print(\"ocurrio un error: {e}\")\n",
    "finally:\n",
    "    conexion.close()\n",
    "print(\"________________________________________________\")"
   ]
  },
  {
   "cell_type": "code",
   "execution_count": 2,
   "id": "d56982a0-dfa9-46a9-93d7-025ce310aca7",
   "metadata": {},
   "outputs": [
    {
     "name": "stdout",
     "output_type": "stream",
     "text": [
      "conexion con la base de datos postgresql\n",
      "actualizar  registros\n",
      "_____________________________________________\n",
      "ocurrio un error: {e}\n",
      "________________________________________________\n"
     ]
    }
   ],
   "source": [
    "print(\"conexion con la base de datos postgresql\")\n",
    "print(\"actualizar  registros\")\n",
    "print(\"_____________________________________________\")\n",
    "import psycopg2\n",
    "conexion = psycopg2.connect(user='postgres',\n",
    "                            password='admin',\n",
    "                            host='127.0.0.1',\n",
    "                            port='5432',\n",
    "                           database='test_db')\n",
    "try:\n",
    "    with conexion:\n",
    "        with conexion.cursor() as cursor:\n",
    "            sentencia = 'UPDATE persona SET nombre=%s , apellido=%S, email=%s WHERE id_persona=%s'\n",
    "            valores =('juan carlos', 'juarez', 'jju@example',1)\n",
    "            cursor.execute(sentencia, valores)\n",
    "            conexion.commit()\n",
    "            registros_actualizados = cursor.rowcount\n",
    "            print(f'resgistros actualizados: {resgistros_actualizados}')\n",
    "            \n",
    "except Exception as e:\n",
    "    print(\"ocurrio un error: {e}\")\n",
    "finally:\n",
    "    conexion.close()\n",
    "print(\"________________________________________________\")"
   ]
  },
  {
   "cell_type": "code",
   "execution_count": 8,
   "id": "7a9fff7f-d740-41ae-ad92-858ed61c86fb",
   "metadata": {},
   "outputs": [
    {
     "name": "stdout",
     "output_type": "stream",
     "text": [
      "conexion con la base de datos postgresql\n",
      "actualizar  varios registros\n",
      "_____________________________________________\n",
      "ocurrio un error: {e}\n",
      "________________________________________________\n"
     ]
    }
   ],
   "source": [
    "print(\"conexion con la base de datos postgresql\")\n",
    "print(\"actualizar  varios registros\")\n",
    "print(\"_____________________________________________\")\n",
    "import psycopg2\n",
    "conexion = psycopg2.connect(user='postgres',\n",
    "                            password='admin',\n",
    "                            host='127.0.0.1',\n",
    "                            port='5432',\n",
    "                           database='test_db')\n",
    "try:\n",
    "    with conexion:\n",
    "        with conexion.cursor() as cursor:\n",
    "            sentencia = 'UPDATE persona SET nombre=%s , apellido=%S, email=%s WHERE id_persona=%s'\n",
    "            valores =(\n",
    "            ('juan ', 'perez', 'jp@gmail',1),\n",
    "            ('ivy', 'gutierrez', 'jju@example',2)\n",
    "            )\n",
    "            cursor.executemany(sentencia, valores)\n",
    "            registros_actualizados = cursor.rowcount\n",
    "            print(f'resgistros actualizados: {resgistros_actualizados}')\n",
    "            \n",
    "except Exception as e:\n",
    "    print(\"ocurrio un error: {e}\")\n",
    "finally:\n",
    "    conexion.close()\n",
    "print(\"________________________________________________\")"
   ]
  },
  {
   "cell_type": "code",
   "execution_count": 10,
   "id": "717b526e-353e-4665-99ce-a161543f565c",
   "metadata": {},
   "outputs": [
    {
     "name": "stdout",
     "output_type": "stream",
     "text": [
      "conexion con la base de datos postgresql\n",
      "eliminar registros\n",
      "_____________________________________________\n"
     ]
    },
    {
     "name": "stdin",
     "output_type": "stream",
     "text": [
      "ingresa el id_persona:  2\n"
     ]
    },
    {
     "name": "stdout",
     "output_type": "stream",
     "text": [
      "ocurrio un error: {e}\n",
      "________________________________________________\n"
     ]
    }
   ],
   "source": [
    "print(\"conexion con la base de datos postgresql\")\n",
    "print(\"eliminar registros\")\n",
    "print(\"_____________________________________________\")\n",
    "import psycopg2\n",
    "conexion = psycopg2.connect(user='postgres',\n",
    "                            password='admin',\n",
    "                            host='127.0.0.1',\n",
    "                            port='5432',\n",
    "                           database='test_db')\n",
    "try:\n",
    "    with conexion:\n",
    "        with conexion.cursor() as cursor:\n",
    "            sentencia = 'DELETE FROM persona WHERE id_persona=%s'\n",
    "            entrada = input('ingresa el id_persona: ')\n",
    "            valores =(entrada,)\n",
    "            cursor.execute(sentencia, valores)\n",
    "            registros_actualizados = cursor.rowcount\n",
    "            print(f'resgistros eliminados: {resgistros_eliminados}')\n",
    "            \n",
    "except Exception as e:\n",
    "    print(\"ocurrio un error: {e}\")\n",
    "finally:\n",
    "    conexion.close()\n",
    "print(\"________________________________________________\")"
   ]
  },
  {
   "cell_type": "code",
   "execution_count": 1,
   "id": "fedf12ca-02bc-43f6-bf2b-323d09cd9ffe",
   "metadata": {},
   "outputs": [
    {
     "name": "stdout",
     "output_type": "stream",
     "text": [
      "conexion con la base de datos postgresql\n",
      "eliminar varios registros\n",
      "_____________________________________________\n"
     ]
    },
    {
     "name": "stdin",
     "output_type": "stream",
     "text": [
      "ingresa el id_persona separados por coma:  1\n"
     ]
    },
    {
     "name": "stdout",
     "output_type": "stream",
     "text": [
      "ocurrio un error: {e}\n",
      "________________________________________________\n"
     ]
    }
   ],
   "source": [
    "print(\"conexion con la base de datos postgresql\")\n",
    "print(\"eliminar varios registros\")\n",
    "print(\"_____________________________________________\")\n",
    "import psycopg2\n",
    "conexion = psycopg2.connect(user='postgres',\n",
    "                            password='admin',\n",
    "                            host='127.0.0.1',\n",
    "                            port='5432',\n",
    "                           database='test_db')\n",
    "try:\n",
    "    with conexion:\n",
    "        with conexion.cursor() as cursor:\n",
    "            sentencia = 'DELETE FROM persona WHERE IN %s'\n",
    "            entrada = input('ingresa el id_persona separados por coma: ')\n",
    "            valores =(tuple(entrada,split(',')),)\n",
    "            cursor.execute(sentencia, valores)\n",
    "            registros_actualizados = cursor.rowcount\n",
    "            print(f'resgistros eliminados: {resgistros_eliminados}')\n",
    "            \n",
    "except Exception as e:\n",
    "    print(\"ocurrio un error: {e}\")\n",
    "finally:\n",
    "    conexion.close()\n",
    "print(\"________________________________________________\")"
   ]
  },
  {
   "cell_type": "code",
   "execution_count": 3,
   "id": "9b16849d-7602-466e-83be-8de2f714601b",
   "metadata": {},
   "outputs": [
    {
     "name": "stderr",
     "output_type": "stream",
     "text": [
      "DEBUG:root:mensaje a nivel debug\n",
      "INFO:root:mensaje a nivel de info\n",
      "WARNING:root:mensaje a nivel de warning\n",
      "ERROR:root:mensaje a nivel de error\n",
      "CRITICAL:root:mensaje a nivel critico\n"
     ]
    }
   ],
   "source": [
    "import logging as log \n",
    "log.basicConfig(level=log.DEBUG)\n",
    "if __name__ == '__main__':\n",
    "    log.debug('mensaje a nivel debug')\n",
    "    log.info(\"mensaje a nivel de info\")\n",
    "    log.warning(\"mensaje a nivel de warning\")\n",
    "    log.error(\"mensaje a nivel de error\")\n",
    "    log.critical(\"mensaje a nivel critico\")"
   ]
  },
  {
   "cell_type": "code",
   "execution_count": 6,
   "id": "1a4f25f6-25bd-4f71-a629-28708e0a6fc2",
   "metadata": {},
   "outputs": [
    {
     "name": "stderr",
     "output_type": "stream",
     "text": [
      "DEBUG:root:mensaje a nivel debug\n",
      "INFO:root:mensaje a nivel de info\n",
      "WARNING:root:mensaje a nivel de warning\n",
      "ERROR:root:mensaje a nivel de error\n",
      "CRITICAL:root:mensaje a nivel critico\n"
     ]
    }
   ],
   "source": [
    "import logging as log \n",
    "log.basicConfig(level=log.DEBUG,\n",
    "               format='%(asctime)s: %(levelname)s [%(filename)s:%(Lineno)s] %(message)s',\n",
    "               datefmt ='%I:%M:%S %p',\n",
    "               handlers=[\n",
    "                    log.FileHandler('capa_datos.log'),\n",
    "                    log.StreamHandler()\n",
    "                ])\n",
    "if __name__ == '__main__':\n",
    "    log.debug('mensaje a nivel debug')\n",
    "    log.info(\"mensaje a nivel de info\")\n",
    "    log.warning(\"mensaje a nivel de warning\")\n",
    "    log.error(\"mensaje a nivel de error\")\n",
    "    log.critical(\"mensaje a nivel critico\")"
   ]
  },
  {
   "cell_type": "code",
   "execution_count": 9,
   "id": "09a0b316-4b54-4b4f-84be-2146342c6adf",
   "metadata": {},
   "outputs": [],
   "source": [
    "#import urllib.request\n",
    "#import json\n",
    "#print(\"procesar documentos json\")\n",
    "#print(\"__________________________\")\n",
    "#print(\"JSON = JAVASCRIPT OBJECT NOTATION\")\n",
    "#respuesta = urllib.request.urlopen('http://globalmentoring.com.mx/api/personas.json')\n",
    "#print(respuesta)\n",
    "#cuerpo_respuesta = respuesta.read()\n",
    "#print(cuerpo_respuesta)\n",
    "#json_respuesta = json.loads(cuerpo_respuesta('utf-8'))\n",
    "#print(json_respuesta)\n",
    "#for persona in json_respuesta['personas']:\n",
    "    #print(f'la persona: {persona[\"nombre\"]} {perssona[\"edad\"]}')\n",
    "#print(f'total de personas: {json_respuesta[\"total\"]}')\n",
    "#print(f'Mensaje: {json_respuesta[\"mensaje\"]}')\n",
    "#print(\"___________________________\")"
   ]
  },
  {
   "cell_type": "code",
   "execution_count": null,
   "id": "a6d71ba3-04f1-4abf-bb00-7ef27de6290d",
   "metadata": {},
   "outputs": [],
   "source": []
  }
 ],
 "metadata": {
  "kernelspec": {
   "display_name": "Python 3 (ipykernel)",
   "language": "python",
   "name": "python3"
  },
  "language_info": {
   "codemirror_mode": {
    "name": "ipython",
    "version": 3
   },
   "file_extension": ".py",
   "mimetype": "text/x-python",
   "name": "python",
   "nbconvert_exporter": "python",
   "pygments_lexer": "ipython3",
   "version": "3.12.4"
  }
 },
 "nbformat": 4,
 "nbformat_minor": 5
}
